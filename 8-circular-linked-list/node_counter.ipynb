{
 "cells": [
  {
   "cell_type": "code",
   "execution_count": 2,
   "id": "0abce7f1",
   "metadata": {},
   "outputs": [],
   "source": [
    "class Node:\n",
    "    def __init__(self, value):\n",
    "        self.value = value\n",
    "        self.next = None"
   ]
  },
  {
   "cell_type": "code",
   "execution_count": 9,
   "id": "056e5a2c",
   "metadata": {},
   "outputs": [],
   "source": [
    "class CSLinkedList:\n",
    "    def __init__(self) -> None:\n",
    "        self.head = None\n",
    "        self.tail = None\n",
    "        self.length = 0\n",
    "    def append(self, data):\n",
    "        new_node = Node(data)\n",
    "        \n",
    "        if self.head is None:\n",
    "            self.head = self.tail = new_node.next = new_node\n",
    "        else:\n",
    "            new_node.next = self.head\n",
    "            self.tail.next = new_node\n",
    "            self.tail = new_node\n",
    "        self.length += 1\n",
    "        \n",
    "    def count_nodes(self):\n",
    "        count = 0\n",
    "        if self.head is None:\n",
    "            return count\n",
    "        temp_node = self.head\n",
    "        while temp_node is not None:\n",
    "            count += 1\n",
    "            if temp_node.next is self.head:\n",
    "                break\n",
    "            temp_node = temp_node.next\n",
    "        return count"
   ]
  },
  {
   "cell_type": "code",
   "execution_count": 10,
   "id": "b5e75649",
   "metadata": {},
   "outputs": [],
   "source": [
    "a = CSLinkedList()\n",
    "\n",
    "for i in range(10):\n",
    "    a.append(i)"
   ]
  },
  {
   "cell_type": "code",
   "execution_count": 12,
   "id": "70b6312f",
   "metadata": {},
   "outputs": [
    {
     "data": {
      "text/plain": [
       "10"
      ]
     },
     "execution_count": 12,
     "metadata": {},
     "output_type": "execute_result"
    }
   ],
   "source": [
    "a.count_nodes()\n"
   ]
  },
  {
   "cell_type": "code",
   "execution_count": null,
   "id": "4e95d0d1",
   "metadata": {},
   "outputs": [],
   "source": []
  }
 ],
 "metadata": {
  "kernelspec": {
   "display_name": ".venv",
   "language": "python",
   "name": "python3"
  },
  "language_info": {
   "codemirror_mode": {
    "name": "ipython",
    "version": 3
   },
   "file_extension": ".py",
   "mimetype": "text/x-python",
   "name": "python",
   "nbconvert_exporter": "python",
   "pygments_lexer": "ipython3",
   "version": "3.12.5"
  }
 },
 "nbformat": 4,
 "nbformat_minor": 5
}
