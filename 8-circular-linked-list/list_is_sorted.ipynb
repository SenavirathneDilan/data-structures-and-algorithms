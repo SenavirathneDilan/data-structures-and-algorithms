{
 "cells": [
  {
   "cell_type": "code",
   "execution_count": 2,
   "id": "00088827",
   "metadata": {},
   "outputs": [],
   "source": [
    "class Node:\n",
    "    def __init__(self, data) -> None:\n",
    "        self.data = data\n",
    "        self.next = None\n",
    "        \n"
   ]
  },
  {
   "cell_type": "code",
   "execution_count": null,
   "id": "bd81ab47",
   "metadata": {},
   "outputs": [],
   "source": [
    "class CSLinkedList:\n",
    "    def __init__(self):\n",
    "        self.head = None\n",
    "        self.tail = None\n",
    "        self.length = 0\n",
    "        \n",
    "    def append(self, data):\n",
    "        \n",
    "        new_node = Node(data)\n",
    "        \n",
    "        if self.head is None:\n",
    "            self.head = self.tail = new_node.next = new_node\n",
    "        else:\n",
    "            new_node.next = self.head\n",
    "            self.tail.next = new_node\n",
    "            self.tail = new_node\n",
    "            \n",
    "        self.length += 1\n",
    "        \n",
    "    def __str__(self) -> str:\n",
    "        if self.head is None:\n",
    "            return 'empty list'\n",
    "        else:\n",
    "            current_node = self.head\n",
    "            values = ''\n",
    "            \n",
    "            while current_node is not None:\n",
    "                values += str(current_node.data)\n",
    "                if current_node.next is self.head:\n",
    "                    break\n",
    "                values += '-->'\n",
    "                current_node = current_node.next\n",
    "            return values\n",
    "    def sorted(self):\n",
    "        if self.head is None:\n",
    "            print(\"Empty List\")\n",
    "        else:\n",
    "            pre_value = self.head\n",
    "            current_node = self.head\n",
    "            \n",
    "            for _ in range(self.length):\n",
    "                current_value = current_node.value\n",
    "                next_value = current_node.next.value\n",
    "                \n",
    "                if current_value > next_value:\n",
    "                    break\n",
    "                \n",
    "                \n",
    "                current_node = current_node.next\n",
    "        \n",
    "        "
   ]
  },
  {
   "cell_type": "code",
   "execution_count": 15,
   "id": "dbcac562",
   "metadata": {},
   "outputs": [
    {
     "name": "stdout",
     "output_type": "stream",
     "text": [
      "0-->1-->2-->3-->4-->5-->6-->7-->8-->9\n"
     ]
    }
   ],
   "source": [
    "a = CSLinkedList()\n",
    "for i in range(10):\n",
    "    a.append(i)\n",
    "    \n",
    "print(a)"
   ]
  },
  {
   "cell_type": "code",
   "execution_count": 16,
   "id": "9ea7fff7",
   "metadata": {},
   "outputs": [
    {
     "name": "stdout",
     "output_type": "stream",
     "text": [
      "0-->1-->2-->3-->4-->5-->6-->7-->8-->9-->10\n"
     ]
    }
   ],
   "source": [
    "a.append(10)\n",
    "print(a)"
   ]
  },
  {
   "cell_type": "code",
   "execution_count": null,
   "id": "5fe0266e",
   "metadata": {},
   "outputs": [],
   "source": [
    "\n"
   ]
  }
 ],
 "metadata": {
  "kernelspec": {
   "display_name": ".venv",
   "language": "python",
   "name": "python3"
  },
  "language_info": {
   "codemirror_mode": {
    "name": "ipython",
    "version": 3
   },
   "file_extension": ".py",
   "mimetype": "text/x-python",
   "name": "python",
   "nbconvert_exporter": "python",
   "pygments_lexer": "ipython3",
   "version": "3.12.5"
  }
 },
 "nbformat": 4,
 "nbformat_minor": 5
}
