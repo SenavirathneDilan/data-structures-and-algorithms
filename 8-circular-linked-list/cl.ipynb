{
 "cells": [
  {
   "cell_type": "code",
   "execution_count": 5,
   "id": "f780d15e",
   "metadata": {},
   "outputs": [],
   "source": [
    "class Node:\n",
    "    def __init__(self, value: None) -> None:\n",
    "        self.value = value\n",
    "        self.next = None"
   ]
  },
  {
   "cell_type": "code",
   "execution_count": null,
   "id": "2f7e4969",
   "metadata": {},
   "outputs": [],
   "source": [
    "# # circular linked list with one element\n",
    "# class CSLInkedList:\n",
    "#     def __init__(self, value) -> None:\n",
    "#         new_node = Node(value)\n",
    "#         new_node.next =  new_node\n",
    "#         self.head = new_node\n",
    "#         self.tail = new_node\n",
    "\n",
    "#         self.length = 1"
   ]
  },
  {
   "cell_type": "code",
   "execution_count": 7,
   "id": "4abf28c1",
   "metadata": {},
   "outputs": [],
   "source": [
    "# circulare  linked with no element\n",
    "\n",
    "# class CSLInkedList:\n",
    "#     def __init__(self, value) -> None:\n",
    "#         self.head = None\n",
    "#         self.tail = None\n",
    "#         self.length = 0"
   ]
  },
  {
   "cell_type": "code",
   "execution_count": 205,
   "id": "af30b704",
   "metadata": {},
   "outputs": [],
   "source": [
    "class Node:\n",
    "    def __init__(self, value=None) -> None:\n",
    "        self.value = value\n",
    "        self.next = None\n",
    "        \n",
    "class CSLInkedList:\n",
    "    # def __init__(self, value) -> None:\n",
    "    #     new_node = Node(value)\n",
    "    #     new_node.next = new_node\n",
    "    #     self.head = new_node\n",
    "    #     self.tail = new_node\n",
    "    #     self.length = 1\n",
    "    def __init__(self):\n",
    "        self.head =None\n",
    "        self.tail = None\n",
    "        self.length = 0\n",
    "    def append(self, data):\n",
    "        new_node = Node(data)\n",
    "        \n",
    "        if self.length == 0:\n",
    "            new_node.next = new_node\n",
    "            self.head = new_node\n",
    "            self.tail = new_node\n",
    "            \n",
    "        else:\n",
    "            new_node.next = self.head\n",
    "            self.tail.next = new_node\n",
    "            self.tail = new_node\n",
    "                 \n",
    "        self.length += 1\n",
    "        \n",
    "        \n",
    "        \n",
    "    def __str__(self) -> str:\n",
    "        temp_node = self.head\n",
    "        values = ''\n",
    "        for _ in range(self.length):\n",
    "            values += str(temp_node.value)\n",
    "            if temp_node.next is not self.head:\n",
    "                values += '-->'\n",
    "            temp_node = temp_node.next\n",
    "        return values\n",
    "    \n",
    "    def prepend(self, data):\n",
    "        new_node = Node(data)\n",
    "        \n",
    "        if self.head is None:\n",
    "            new_node.next = new_node\n",
    "            self.head = new_node\n",
    "            self.tail = new_node\n",
    "        else:        \n",
    "            new_node.next = self.head\n",
    "            self.head = new_node\n",
    "        self.length += 1\n",
    "        \n",
    "    def insert(self, index, value):\n",
    "        if index < 0 or index > self.length:\n",
    "            raise Exception(\"Error: Index outof bound\")\n",
    "        new_node = Node(value)\n",
    "        \n",
    "        if index == 0:\n",
    "            new_node.next = self.head\n",
    "            self.head = new_node\n",
    "        elif index == self.length:\n",
    "            new_node.next = self.head\n",
    "            self.tail.next = new_node\n",
    "            self.tail = new_node\n",
    "        else:        \n",
    "          temp_node = self.head\n",
    "        \n",
    "          for _ in range(index - 1):\n",
    "             temp_node =  temp_node.next\n",
    "            \n",
    "          new_node.next = temp_node.next\n",
    "          temp_node.next = new_node\n",
    "        self.length += 1\n",
    "        \n",
    "    def traversal(self):\n",
    "        temp_node = self.head\n",
    "        while temp_node is not None:\n",
    "            print(temp_node.value)\n",
    "            if temp_node == self.tail:\n",
    "                break\n",
    "            temp_node = temp_node.next\n",
    "            \n",
    "    def search(self, target):\n",
    "        current_node = self.head\n",
    "        locations = {}\n",
    "        for i in range(self.length):\n",
    "            if current_node.value == target:\n",
    "                locations[i] = current_node\n",
    "            current_node = current_node.next\n",
    "        print(locations)\n",
    "        \n",
    "    def get(self, index):\n",
    "        if index < 0 or index > self.length:\n",
    "            raise Exception(\"Index out of Bound\")\n",
    "        current_node = self.head\n",
    "        \n",
    "        for _ in range(index):\n",
    "            current_node = current_node.next\n",
    "        \n",
    "        print(current_node.value)\n",
    "        return current_node\n",
    "        \n",
    "    def set_value(self, index, value):\n",
    "        temp_node = self.get(index)\n",
    "        temp_node.value = value\n",
    "        \n",
    "    def pop_first(self):\n",
    "        if self.length == 1:\n",
    "            self.head = None\n",
    "            self.tail = None\n",
    "        temp_node = self.head\n",
    "        self.head = temp_node.next\n",
    "        self.length -= 1\n",
    "        temp_node.next = None\n",
    "        print(temp_node.value)\n",
    "    def pop(self):\n",
    "        current_node = self.head\n",
    "        while current_node.next is not self.tail:\n",
    "            current_node = current_node.next\n",
    "            \n",
    "        \n",
    "        temp_node = current_node.next\n",
    "        current_node.next = self.head\n",
    "        self.tail = current_node\n",
    "        self.length -= 1\n",
    "        print(current_node.value)\n",
    "        \n",
    "    def remove(self, index):\n",
    "        if index < 0 or index > self.length:\n",
    "            raise Exception(\"index outor range\")\n",
    "        if index == 0:\n",
    "            self.pop_first()\n",
    "        elif index == self.length :\n",
    "            self.pop()\n",
    "        else:\n",
    "          current_node = self.head\n",
    "        \n",
    "          for _ in range(index-1):\n",
    "             current_node = current_node.next\n",
    "            \n",
    "          poped_node = current_node.next\n",
    "        \n",
    "          current_node.next = poped_node.next\n",
    "          poped_node.next = None\n",
    "          self.length -= 1\n",
    "          print(poped_node.value)\n",
    "          \n",
    "    def delete(self):\n",
    "        self.tail.next = None\n",
    "        self.head = None\n",
    "        self.tail = None\n",
    "        self.length = 0\n",
    "        \n",
    "        \n",
    "        \n",
    "        "
   ]
  },
  {
   "cell_type": "code",
   "execution_count": 202,
   "id": "33aa1f29",
   "metadata": {},
   "outputs": [],
   "source": [
    "cs = CSLInkedList()\n",
    "for i in range(10):\n",
    "    cs.prepend(i)\n",
    "    "
   ]
  },
  {
   "cell_type": "code",
   "execution_count": 203,
   "id": "de0be8e8",
   "metadata": {},
   "outputs": [
    {
     "name": "stdout",
     "output_type": "stream",
     "text": [
      "9-->8-->7-->6-->5-->4-->3-->2-->1-->0-->\n"
     ]
    }
   ],
   "source": [
    "print(cs)"
   ]
  },
  {
   "cell_type": "code",
   "execution_count": 196,
   "id": "dcb5b3d4",
   "metadata": {},
   "outputs": [
    {
     "name": "stdout",
     "output_type": "stream",
     "text": [
      "4\n"
     ]
    },
    {
     "data": {
      "text/plain": [
       "<__main__.Node at 0x7916c9f71850>"
      ]
     },
     "execution_count": 196,
     "metadata": {},
     "output_type": "execute_result"
    }
   ],
   "source": [
    "cs.get(5)"
   ]
  },
  {
   "cell_type": "code",
   "execution_count": 197,
   "id": "e77f2432",
   "metadata": {},
   "outputs": [
    {
     "name": "stdout",
     "output_type": "stream",
     "text": [
      "4\n"
     ]
    }
   ],
   "source": [
    "cs.set_value(5, 999)"
   ]
  },
  {
   "cell_type": "code",
   "execution_count": 204,
   "id": "532c533f",
   "metadata": {},
   "outputs": [
    {
     "name": "stdout",
     "output_type": "stream",
     "text": [
      "9-->8-->7-->6-->5-->4-->3-->2-->1-->0-->\n"
     ]
    },
    {
     "ename": "AttributeError",
     "evalue": "'NoneType' object has no attribute 'value'",
     "output_type": "error",
     "traceback": [
      "\u001b[31m---------------------------------------------------------------------------\u001b[39m",
      "\u001b[31mAttributeError\u001b[39m                            Traceback (most recent call last)",
      "\u001b[36mCell\u001b[39m\u001b[36m \u001b[39m\u001b[32mIn[204]\u001b[39m\u001b[32m, line 3\u001b[39m\n\u001b[32m      1\u001b[39m \u001b[38;5;28mprint\u001b[39m(cs)\n\u001b[32m      2\u001b[39m cs.delete()\n\u001b[32m----> \u001b[39m\u001b[32m3\u001b[39m \u001b[38;5;28;43mprint\u001b[39;49m\u001b[43m(\u001b[49m\u001b[43mcs\u001b[49m\u001b[43m)\u001b[49m\n",
      "\u001b[36mCell\u001b[39m\u001b[36m \u001b[39m\u001b[32mIn[193]\u001b[39m\u001b[32m, line 38\u001b[39m, in \u001b[36mCSLInkedList.__str__\u001b[39m\u001b[34m(self)\u001b[39m\n\u001b[32m     36\u001b[39m values = \u001b[33m'\u001b[39m\u001b[33m'\u001b[39m\n\u001b[32m     37\u001b[39m \u001b[38;5;28;01mfor\u001b[39;00m _ \u001b[38;5;129;01min\u001b[39;00m \u001b[38;5;28mrange\u001b[39m(\u001b[38;5;28mself\u001b[39m.length):\n\u001b[32m---> \u001b[39m\u001b[32m38\u001b[39m     values += \u001b[38;5;28mstr\u001b[39m(\u001b[43mtemp_node\u001b[49m\u001b[43m.\u001b[49m\u001b[43mvalue\u001b[49m)\n\u001b[32m     39\u001b[39m     \u001b[38;5;28;01mif\u001b[39;00m temp_node.next \u001b[38;5;129;01mis\u001b[39;00m \u001b[38;5;129;01mnot\u001b[39;00m \u001b[38;5;28mself\u001b[39m.head:\n\u001b[32m     40\u001b[39m         values += \u001b[33m'\u001b[39m\u001b[33m-->\u001b[39m\u001b[33m'\u001b[39m\n",
      "\u001b[31mAttributeError\u001b[39m: 'NoneType' object has no attribute 'value'"
     ]
    }
   ],
   "source": [
    "print(cs)\n",
    "cs.delete()\n",
    "print(cs)"
   ]
  },
  {
   "cell_type": "code",
   "execution_count": null,
   "id": "55c45aa3",
   "metadata": {},
   "outputs": [],
   "source": []
  },
  {
   "cell_type": "code",
   "execution_count": null,
   "id": "21007ad8",
   "metadata": {},
   "outputs": [],
   "source": []
  }
 ],
 "metadata": {
  "kernelspec": {
   "display_name": ".venv",
   "language": "python",
   "name": "python3"
  },
  "language_info": {
   "codemirror_mode": {
    "name": "ipython",
    "version": 3
   },
   "file_extension": ".py",
   "mimetype": "text/x-python",
   "name": "python",
   "nbconvert_exporter": "python",
   "pygments_lexer": "ipython3",
   "version": "3.12.5"
  }
 },
 "nbformat": 4,
 "nbformat_minor": 5
}
