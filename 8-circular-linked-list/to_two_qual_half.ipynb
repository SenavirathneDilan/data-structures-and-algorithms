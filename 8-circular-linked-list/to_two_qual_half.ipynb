{
 "cells": [
  {
   "cell_type": "code",
   "execution_count": 5,
   "id": "f1f08dc9",
   "metadata": {},
   "outputs": [],
   "source": [
    "class Node:\n",
    "    def __init__(self, data) -> None:\n",
    "      self.data = data\n",
    "      self.next = None\n",
    "      \n",
    "class CSLinkedList:\n",
    "    def __init__(self) -> None:\n",
    "       self.head = None\n",
    "       self.tail = None\n",
    "       self.length = 0\n",
    "       \n",
    "    def append(self, data):\n",
    "        new_node = Node(data)\n",
    "        if self.head is None:\n",
    "            self.head = self.tail = new_node.next = new_node\n",
    "        else:\n",
    "            new_node.next = self.head\n",
    "            self.tail.next = new_node\n",
    "            self.tail = new_node\n",
    "        self.length += 1\n",
    "        \n",
    "    def __str__(self) -> str:\n",
    "        if self.head is None:\n",
    "            return \"empty list\"\n",
    "        else:\n",
    "            temp_node = self.head\n",
    "            values = ''\n",
    "            while temp_node is not None:\n",
    "                values += str(temp_node.data)\n",
    "                if temp_node.next is self.head:\n",
    "                    break\n",
    "                values += '-->'\n",
    "                temp_node = temp_node.next\n",
    "            return values"
   ]
  },
  {
   "cell_type": "code",
   "execution_count": 117,
   "id": "285b71f2",
   "metadata": {},
   "outputs": [],
   "source": [
    "def list_divider(a: CSLinkedList):\n",
    "    mid = a.length//2\n",
    "    print(mid)\n",
    "    \n",
    "    list_b = CSLinkedList()\n",
    "    list_c = CSLinkedList()\n",
    "    \n",
    "    current_node = a.head\n",
    "    \n",
    "    for i in range(a.length):\n",
    "        if i == mid-1:\n",
    "            print(i)\n",
    "            list_b.head = a.head\n",
    "            list_c.head = current_node.next\n",
    "            list_c.tail = a.tail\n",
    "            list_b.tail = current_node\n",
    "            list_b.tail.next = a.head\n",
    "            list_b.length = mid\n",
    "            print(list_b)\n",
    "            \n",
    "            print(current_node.data)\n",
    "            list_c.tail.next = list_c.head\n",
    "            list_c.length = a.length - mid\n",
    "            print(list_c)\n",
    "            \n",
    "            \n",
    "        current_node = current_node.next\n",
    "\n",
    "    # print(\"list 1: \", list_b)\n",
    "    # print(\"list 2:\", list_c)\n",
    "        \n",
    "    \n",
    "    "
   ]
  },
  {
   "cell_type": "code",
   "execution_count": 118,
   "id": "eb923236",
   "metadata": {},
   "outputs": [
    {
     "name": "stdout",
     "output_type": "stream",
     "text": [
      "0-->1-->2-->3-->4-->5-->6-->7-->8-->9\n",
      "5\n",
      "4\n",
      "0-->1-->2-->3-->4\n",
      "4\n",
      "5-->6-->7-->8-->9\n"
     ]
    }
   ],
   "source": [
    "a = CSLinkedList()\n",
    "for i  in range(10):\n",
    "    a.append(i)\n",
    "    \n",
    "print(a)\n",
    "list_divider(a)"
   ]
  },
  {
   "cell_type": "code",
   "execution_count": 101,
   "id": "35a99ef1",
   "metadata": {},
   "outputs": [
    {
     "data": {
      "text/plain": [
       "5"
      ]
     },
     "execution_count": 101,
     "metadata": {},
     "output_type": "execute_result"
    }
   ],
   "source": [
    "10//2"
   ]
  },
  {
   "cell_type": "code",
   "execution_count": null,
   "id": "ac9e6a2a",
   "metadata": {},
   "outputs": [],
   "source": []
  }
 ],
 "metadata": {
  "kernelspec": {
   "display_name": ".venv",
   "language": "python",
   "name": "python3"
  },
  "language_info": {
   "codemirror_mode": {
    "name": "ipython",
    "version": 3
   },
   "file_extension": ".py",
   "mimetype": "text/x-python",
   "name": "python",
   "nbconvert_exporter": "python",
   "pygments_lexer": "ipython3",
   "version": "3.12.5"
  }
 },
 "nbformat": 4,
 "nbformat_minor": 5
}
