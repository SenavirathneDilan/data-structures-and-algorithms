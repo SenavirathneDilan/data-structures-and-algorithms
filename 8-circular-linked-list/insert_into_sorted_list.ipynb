{
 "cells": [
  {
   "cell_type": "code",
   "execution_count": 3,
   "id": "054ce1df",
   "metadata": {},
   "outputs": [],
   "source": [
    "class Node:\n",
    "    def __init__(self, data=None):\n",
    "        self.data = data\n",
    "        self.next = None"
   ]
  },
  {
   "cell_type": "code",
   "execution_count": null,
   "id": "85cddced",
   "metadata": {},
   "outputs": [],
   "source": [
    "class CSLinkedList:\n",
    "    def __init__(self) -> None:\n",
    "        self.head = None\n",
    "        self.Tail = None\n",
    "        self.length = 0\n",
    "    \n",
    "    def __str__(self) -> str:\n",
    "        if self.head is None:\n",
    "            return 'Empty List'\n",
    "        else:\n",
    "            current_node = self.head\n",
    "            values = ''\n",
    "            while current_node is not None:\n",
    "                values += str(current_node.data)\n",
    "                if current_node.next == self.head:\n",
    "                    break\n",
    "                values += '-->'\n",
    "                current_node = current_node.next\n",
    "        return values\n",
    "        \n",
    "    def prepend(self, data):\n",
    "        new_node = Node(data)\n",
    "        \n",
    "        if self.head is None:\n",
    "            self.head = self.Tail = new_node.next = new_node\n",
    "        else:\n",
    "            new_node.next = self.head\n",
    "            self.head = new_node\n",
    "            self.tail.next = self.head\n",
    "        self.length += 1\n",
    "    def append(self, data):\n",
    "        new_node = Node(data)\n",
    "        if self.head is None:\n",
    "            self.head = self.tail = new_node.next = new_node\n",
    "        else:\n",
    "            new_node.next = self.head\n",
    "            self.tail.next = new_node\n",
    "            self.tail = new_node\n",
    "        self.length += 1\n",
    "        \n",
    "    def append_between(self, data):\n",
    "        new_node = Node(data)\n",
    "        \n",
    "        if self.head is None:\n",
    "            self.head = self.tail = new_node.next = new_node\n",
    "        else:\n",
    "            current_node = self.head\n",
    "            \n",
    "            while current_node is not None:\n",
    "                if (current_node.data <= new_node.data) and (current_node.next.data >= new_node.data):\n",
    "                    print(\"test\")\n",
    "                    new_node.next = current_node.next\n",
    "                    current_node.next = new_node\n",
    "                    self.length += 1\n",
    "                    break\n",
    "                \n",
    "                if current_node.next == self.head:\n",
    "                    break\n",
    "                current_node = current_node.next\n",
    "        \n",
    "    \n",
    "        \n",
    "    \n",
    "            \n"
   ]
  },
  {
   "cell_type": "code",
   "execution_count": 17,
   "id": "ed2ae2ba",
   "metadata": {},
   "outputs": [
    {
     "name": "stdout",
     "output_type": "stream",
     "text": [
      "0-->14-->28-->42-->56-->70-->84-->98-->112-->126\n"
     ]
    }
   ],
   "source": [
    "\n",
    "a = CSLinkedList()\n",
    "for i in range(10):\n",
    "    a.append(i*14)\n",
    "    # a.prepend(i*15)\n",
    "print(a)"
   ]
  },
  {
   "cell_type": "code",
   "execution_count": 20,
   "id": "2676097e",
   "metadata": {},
   "outputs": [
    {
     "name": "stdout",
     "output_type": "stream",
     "text": [
      "a\n",
      "a\n",
      "a\n",
      "a\n",
      "a\n",
      "a\n",
      "a\n",
      "a\n",
      "a\n",
      "test\n"
     ]
    }
   ],
   "source": [
    "a.append_between(100)"
   ]
  },
  {
   "cell_type": "code",
   "execution_count": 21,
   "id": "9f4ddf86",
   "metadata": {},
   "outputs": [
    {
     "name": "stdout",
     "output_type": "stream",
     "text": [
      "0-->14-->28-->30-->42-->56-->70-->84-->98-->100-->112-->126\n"
     ]
    }
   ],
   "source": [
    "\n",
    "print(a)"
   ]
  },
  {
   "cell_type": "code",
   "execution_count": null,
   "id": "65aaf7b4",
   "metadata": {},
   "outputs": [],
   "source": []
  }
 ],
 "metadata": {
  "kernelspec": {
   "display_name": ".venv",
   "language": "python",
   "name": "python3"
  },
  "language_info": {
   "codemirror_mode": {
    "name": "ipython",
    "version": 3
   },
   "file_extension": ".py",
   "mimetype": "text/x-python",
   "name": "python",
   "nbconvert_exporter": "python",
   "pygments_lexer": "ipython3",
   "version": "3.12.5"
  }
 },
 "nbformat": 4,
 "nbformat_minor": 5
}
