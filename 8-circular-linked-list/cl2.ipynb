{
 "cells": [
  {
   "cell_type": "code",
   "execution_count": 31,
   "id": "eeb9e0d0",
   "metadata": {},
   "outputs": [],
   "source": [
    "class Node:\n",
    "    def __init__(self, data = None) -> None:\n",
    "        self.data = data\n",
    "        self.next = None"
   ]
  },
  {
   "cell_type": "code",
   "execution_count": 76,
   "id": "2004f758",
   "metadata": {},
   "outputs": [],
   "source": [
    "class CSlinkedList:\n",
    "    def __init__(self) -> None:\n",
    "        self.head = None\n",
    "        self.tail = None\n",
    "        self.length = 0\n",
    "        \n",
    "    def prepend(self, data):\n",
    "        new_node =  Node(data)\n",
    "        \n",
    "        if self.head is None:\n",
    "            self.head = new_node\n",
    "            self.tail = new_node\n",
    "            new_node.next =new_node\n",
    "        else:\n",
    "            new_node.next = self.head\n",
    "            self.head = new_node\n",
    "            self.tail.next = new_node\n",
    "        self.length += 1\n",
    "        \n",
    "    def __str__(self) -> str:\n",
    "         \n",
    "         if self.head is None:\n",
    "             return \"List is empty\"\n",
    "         else:\n",
    "             values = ''\n",
    "             temp_node = self.head\n",
    "             while temp_node is not None:\n",
    "                 values += str(temp_node.data)\n",
    "                 if temp_node is self.tail:\n",
    "                     break\n",
    "                 values += '-->'\n",
    "                 temp_node = temp_node.next\n",
    "             return values \n",
    "    def append(self, data):\n",
    "        new_node = Node(data)\n",
    "        if self.head is None:\n",
    "            self.head = new_node\n",
    "            new_node.next = new_node\n",
    "            self.tail = new_node\n",
    "        else:\n",
    "            new_node.next = self.tail.next\n",
    "            self.tail.next = new_node\n",
    "            self.tail = new_node\n",
    "        self.length += 1\n",
    "        \n",
    "    def delete_by_value(self, value):\n",
    "        if self.head is None:\n",
    "            print('Empty list')\n",
    "        else:\n",
    "          temp_node = self.head\n",
    "        \n",
    "          for _ in range(self.length):\n",
    "              if temp_node.next.data == value:\n",
    "                  break\n",
    "              temp_node = temp_node.next\n",
    "          current_node = temp_node\n",
    "          print(temp_node.next.data)\n",
    "          current_node.next = temp_node.next.next\n",
    "            \n",
    "            \n",
    "            "
   ]
  },
  {
   "cell_type": "code",
   "execution_count": 77,
   "id": "03db1d84",
   "metadata": {},
   "outputs": [],
   "source": [
    "a = CSlinkedList()"
   ]
  },
  {
   "cell_type": "code",
   "execution_count": 78,
   "id": "8c6d15fd",
   "metadata": {},
   "outputs": [
    {
     "name": "stdout",
     "output_type": "stream",
     "text": [
      "0-->1-->2-->3-->4-->5-->6-->7-->8-->9\n"
     ]
    }
   ],
   "source": [
    "for i in range(10):\n",
    "    a.append(i)\n",
    "print(a)"
   ]
  },
  {
   "cell_type": "code",
   "execution_count": 79,
   "id": "28cba542",
   "metadata": {},
   "outputs": [
    {
     "name": "stdout",
     "output_type": "stream",
     "text": [
      "4\n"
     ]
    }
   ],
   "source": [
    "a.delete_by_value(4)"
   ]
  },
  {
   "cell_type": "code",
   "execution_count": 80,
   "id": "a862478e",
   "metadata": {},
   "outputs": [
    {
     "name": "stdout",
     "output_type": "stream",
     "text": [
      "0-->1-->2-->3-->5-->6-->7-->8-->9\n"
     ]
    }
   ],
   "source": [
    "print(a)"
   ]
  },
  {
   "cell_type": "code",
   "execution_count": null,
   "id": "568bb45d",
   "metadata": {},
   "outputs": [],
   "source": []
  }
 ],
 "metadata": {
  "kernelspec": {
   "display_name": "Python 3",
   "language": "python",
   "name": "python3"
  },
  "language_info": {
   "codemirror_mode": {
    "name": "ipython",
    "version": 3
   },
   "file_extension": ".py",
   "mimetype": "text/x-python",
   "name": "python",
   "nbconvert_exporter": "python",
   "pygments_lexer": "ipython3",
   "version": "3.12.9"
  }
 },
 "nbformat": 4,
 "nbformat_minor": 5
}
