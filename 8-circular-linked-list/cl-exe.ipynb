{
 "cells": [
  {
   "cell_type": "code",
   "execution_count": 36,
   "id": "f5699fff",
   "metadata": {},
   "outputs": [],
   "source": [
    "class Node:\n",
    "    def __init__(self, value):\n",
    "        self.value = value\n",
    "        self.next = None\n",
    "        \n",
    "    def __str__(self) -> str:\n",
    "        return str(self.value)"
   ]
  },
  {
   "cell_type": "code",
   "execution_count": 108,
   "id": "82b45159",
   "metadata": {},
   "outputs": [],
   "source": [
    "class CSLinkedList:\n",
    "    def __init__(self):\n",
    "        self.head = None\n",
    "        self.tail =None\n",
    "        self.length = 0\n",
    "        \n",
    "    def __str__(self) -> str:\n",
    "        if self.head is None:\n",
    "            return 'empty list'\n",
    "        else:\n",
    "            current_node = self.head\n",
    "            values = ''\n",
    "            for _ in range(self.length):\n",
    "                values  +=  str(current_node.value)\n",
    "                if current_node.next is not self.head:\n",
    "                    values += '-->'\n",
    "                current_node = current_node.next\n",
    "                \n",
    "                \n",
    "            return values\n",
    "            \n",
    "        \n",
    "    def prepend(self, data):\n",
    "      new_node = Node(data)\n",
    "    \n",
    "      if self.head is None:\n",
    "        self.head = new_node\n",
    "        new_node.next = new_node\n",
    "        self.tail = new_node\n",
    "        \n",
    "      else:     \n",
    "        new_node.next = self.head\n",
    "        self.head = new_node\n",
    "        self.tail.next = new_node\n",
    "    \n",
    "      self.length += 1\n",
    "      \n",
    "    def append(self, data):\n",
    "        new_node = Node(data)\n",
    "        if self.head is None:\n",
    "            self.head = new_node\n",
    "            new_node.next = new_node\n",
    "            self.tail = new_node\n",
    "            \n",
    "        else:\n",
    "            new_node.next = self.head\n",
    "            self.tail.next = new_node\n",
    "            self.tail = new_node\n",
    "        self.length += 1\n",
    "\n",
    "        "
   ]
  },
  {
   "cell_type": "code",
   "execution_count": 109,
   "id": "28321bf0",
   "metadata": {},
   "outputs": [],
   "source": [
    "a = CSLinkedList()"
   ]
  },
  {
   "cell_type": "code",
   "execution_count": 103,
   "id": "b643035b",
   "metadata": {},
   "outputs": [],
   "source": [
    "a.prepend(10)"
   ]
  },
  {
   "cell_type": "code",
   "execution_count": 110,
   "id": "c0fd1668",
   "metadata": {},
   "outputs": [],
   "source": [
    "for i in range(10):\n",
    "    a.append(i)"
   ]
  },
  {
   "cell_type": "code",
   "execution_count": 111,
   "id": "719bb2b4",
   "metadata": {},
   "outputs": [
    {
     "name": "stdout",
     "output_type": "stream",
     "text": [
      "0-->1-->2-->3-->4-->5-->6-->7-->8-->9\n"
     ]
    }
   ],
   "source": [
    "print(a)\n"
   ]
  },
  {
   "cell_type": "code",
   "execution_count": null,
   "id": "7c4a3706",
   "metadata": {},
   "outputs": [],
   "source": []
  }
 ],
 "metadata": {
  "kernelspec": {
   "display_name": ".venv",
   "language": "python",
   "name": "python3"
  },
  "language_info": {
   "codemirror_mode": {
    "name": "ipython",
    "version": 3
   },
   "file_extension": ".py",
   "mimetype": "text/x-python",
   "name": "python",
   "nbconvert_exporter": "python",
   "pygments_lexer": "ipython3",
   "version": "3.12.5"
  }
 },
 "nbformat": 4,
 "nbformat_minor": 5
}
