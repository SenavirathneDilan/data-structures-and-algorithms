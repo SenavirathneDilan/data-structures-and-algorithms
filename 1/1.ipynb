{
 "cells": [
  {
   "cell_type": "code",
   "execution_count": 2,
   "id": "be9c0686",
   "metadata": {},
   "outputs": [
    {
     "name": "stdout",
     "output_type": "stream",
     "text": [
      "test\n"
     ]
    }
   ],
   "source": [
    "print('test')"
   ]
  },
  {
   "cell_type": "code",
   "execution_count": 3,
   "id": "62dea46d",
   "metadata": {},
   "outputs": [],
   "source": [
    "def multiply(n):\n",
    "    return n*n"
   ]
  },
  {
   "cell_type": "code",
   "execution_count": 4,
   "id": "f8645687",
   "metadata": {},
   "outputs": [],
   "source": [
    "a = lambda n:n*n"
   ]
  },
  {
   "cell_type": "code",
   "execution_count": 5,
   "id": "9c75955e",
   "metadata": {},
   "outputs": [
    {
     "data": {
      "text/plain": [
       "36"
      ]
     },
     "execution_count": 5,
     "metadata": {},
     "output_type": "execute_result"
    }
   ],
   "source": [
    "a(6)"
   ]
  },
  {
   "cell_type": "code",
   "execution_count": 6,
   "id": "2427bb61",
   "metadata": {},
   "outputs": [],
   "source": [
    "b = lambda b:2**b"
   ]
  },
  {
   "cell_type": "code",
   "execution_count": 7,
   "id": "35e47547",
   "metadata": {},
   "outputs": [
    {
     "data": {
      "text/plain": [
       "65536"
      ]
     },
     "execution_count": 7,
     "metadata": {},
     "output_type": "execute_result"
    }
   ],
   "source": [
    "b(16)"
   ]
  },
  {
   "cell_type": "code",
   "execution_count": 8,
   "id": "149999ab",
   "metadata": {},
   "outputs": [],
   "source": [
    "def get_subnet(number_of_ip: int):\n",
    "  for i in range(32):\n",
    "    if (b(i) - number_of_ip) > 0:\n",
    "        print(i)\n",
    "        return i"
   ]
  },
  {
   "cell_type": "code",
   "execution_count": 9,
   "id": "34701d35",
   "metadata": {},
   "outputs": [
    {
     "name": "stdout",
     "output_type": "stream",
     "text": [
      "16\n"
     ]
    },
    {
     "data": {
      "text/plain": [
       "16"
      ]
     },
     "execution_count": 9,
     "metadata": {},
     "output_type": "execute_result"
    }
   ],
   "source": [
    "get_subnet(60000)"
   ]
  },
  {
   "cell_type": "code",
   "execution_count": 10,
   "id": "5a862cab",
   "metadata": {},
   "outputs": [],
   "source": [
    "def print_item(n):\n",
    "    for i in range(n):\n",
    "        print(i)"
   ]
  },
  {
   "cell_type": "code",
   "execution_count": 11,
   "id": "7a85714e",
   "metadata": {},
   "outputs": [
    {
     "name": "stdout",
     "output_type": "stream",
     "text": [
      "0\n",
      "1\n",
      "2\n",
      "3\n",
      "4\n",
      "5\n",
      "6\n",
      "7\n",
      "8\n",
      "9\n"
     ]
    }
   ],
   "source": [
    "\n",
    "print_item(10)"
   ]
  },
  {
   "cell_type": "code",
   "execution_count": 12,
   "id": "5a198d1e",
   "metadata": {},
   "outputs": [],
   "source": [
    "def sum(n):\n",
    "    if n <= 0:\n",
    "        return 0\n",
    "    return n + sum(n-1)"
   ]
  },
  {
   "cell_type": "code",
   "execution_count": 25,
   "id": "6a23707a",
   "metadata": {},
   "outputs": [],
   "source": [
    "def find_biggest_number(sample_arr):\n",
    "    biggest_num = sample_arr[0]\n",
    "    for i in range(1,len(sample_arr)):\n",
    "        if biggest_num < sample_arr[i]:\n",
    "            biggest_num = sample_arr[i]\n",
    "    return biggest_num"
   ]
  },
  {
   "cell_type": "code",
   "execution_count": 26,
   "id": "dcb8edc7",
   "metadata": {},
   "outputs": [],
   "source": [
    "a =  [1,24,56,34]"
   ]
  },
  {
   "cell_type": "code",
   "execution_count": 27,
   "id": "1daac687",
   "metadata": {},
   "outputs": [
    {
     "data": {
      "text/plain": [
       "56"
      ]
     },
     "execution_count": 27,
     "metadata": {},
     "output_type": "execute_result"
    }
   ],
   "source": [
    "find_biggest_number(a)"
   ]
  },
  {
   "cell_type": "code",
   "execution_count": null,
   "id": "618ca4e8",
   "metadata": {},
   "outputs": [],
   "source": []
  }
 ],
 "metadata": {
  "kernelspec": {
   "display_name": ".venv",
   "language": "python",
   "name": "python3"
  },
  "language_info": {
   "codemirror_mode": {
    "name": "ipython",
    "version": 3
   },
   "file_extension": ".py",
   "mimetype": "text/x-python",
   "name": "python",
   "nbconvert_exporter": "python",
   "pygments_lexer": "ipython3",
   "version": "3.12.2"
  }
 },
 "nbformat": 4,
 "nbformat_minor": 5
}
