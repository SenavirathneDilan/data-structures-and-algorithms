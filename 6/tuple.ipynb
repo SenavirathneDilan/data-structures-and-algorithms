{
 "cells": [
  {
   "cell_type": "code",
   "execution_count": 1,
   "id": "d51e84f4",
   "metadata": {},
   "outputs": [],
   "source": [
    "t = ('a', 'b', 'c')"
   ]
  },
  {
   "cell_type": "code",
   "execution_count": 2,
   "id": "4487116a",
   "metadata": {},
   "outputs": [],
   "source": [
    "newtup = 'a', 'b', 'c', 'd', 'e'"
   ]
  },
  {
   "cell_type": "code",
   "execution_count": 3,
   "id": "9d740340",
   "metadata": {},
   "outputs": [
    {
     "data": {
      "text/plain": [
       "('a', 'b', 'c', 'd', 'e')"
      ]
     },
     "execution_count": 3,
     "metadata": {},
     "output_type": "execute_result"
    }
   ],
   "source": [
    "newtup"
   ]
  },
  {
   "cell_type": "code",
   "execution_count": 5,
   "id": "e08d40b5",
   "metadata": {},
   "outputs": [],
   "source": [
    "t2 = ('a',)"
   ]
  },
  {
   "cell_type": "code",
   "execution_count": 6,
   "id": "32642b2f",
   "metadata": {},
   "outputs": [
    {
     "data": {
      "text/plain": [
       "('a',)"
      ]
     },
     "execution_count": 6,
     "metadata": {},
     "output_type": "execute_result"
    }
   ],
   "source": [
    "t2"
   ]
  },
  {
   "cell_type": "code",
   "execution_count": 12,
   "id": "bc2f1fda",
   "metadata": {},
   "outputs": [
    {
     "data": {
      "text/plain": [
       "1"
      ]
     },
     "execution_count": 12,
     "metadata": {},
     "output_type": "execute_result"
    }
   ],
   "source": [
    "newtup.index('b')"
   ]
  },
  {
   "cell_type": "code",
   "execution_count": 13,
   "id": "3a8acacc",
   "metadata": {},
   "outputs": [
    {
     "name": "stdout",
     "output_type": "stream",
     "text": [
      "a\n",
      "b\n",
      "c\n",
      "d\n",
      "e\n"
     ]
    }
   ],
   "source": [
    "for i in newtup:\n",
    "    print(i)"
   ]
  },
  {
   "cell_type": "code",
   "execution_count": 14,
   "id": "348b2322",
   "metadata": {},
   "outputs": [],
   "source": [
    "tp = ('a','a')"
   ]
  },
  {
   "cell_type": "code",
   "execution_count": 15,
   "id": "7fd0e39b",
   "metadata": {},
   "outputs": [],
   "source": [
    "tuple1 = (1, 2, 3)\n",
    "tuple2 = (4, 5, 6)"
   ]
  },
  {
   "cell_type": "code",
   "execution_count": 18,
   "id": "b38191b3",
   "metadata": {},
   "outputs": [
    {
     "data": {
      "text/plain": [
       "[(1, 4), (2, 5), (3, 6)]"
      ]
     },
     "execution_count": 18,
     "metadata": {},
     "output_type": "execute_result"
    }
   ],
   "source": [
    "list(zip(tuple1, tuple2))"
   ]
  },
  {
   "cell_type": "code",
   "execution_count": 26,
   "id": "8b1785d8",
   "metadata": {},
   "outputs": [
    {
     "data": {
      "text/plain": [
       "[5, 7, 9]"
      ]
     },
     "execution_count": 26,
     "metadata": {},
     "output_type": "execute_result"
    }
   ],
   "source": [
    "list(a+b for a,b in zip(tuple1, tuple2) if a < b)"
   ]
  },
  {
   "cell_type": "code",
   "execution_count": 27,
   "id": "c56f36a2",
   "metadata": {},
   "outputs": [],
   "source": [
    "input_tuple = (2, 3, 4)\n",
    "value_to_insert = 1"
   ]
  },
  {
   "cell_type": "code",
   "execution_count": 28,
   "id": "a6890418",
   "metadata": {},
   "outputs": [
    {
     "data": {
      "text/plain": [
       "(2, 3, 4, 1)"
      ]
     },
     "execution_count": 28,
     "metadata": {},
     "output_type": "execute_result"
    }
   ],
   "source": [
    "input_tuple + (1,)"
   ]
  },
  {
   "cell_type": "code",
   "execution_count": null,
   "id": "73a97c31",
   "metadata": {},
   "outputs": [],
   "source": [
    "def concatenate_strings(in_tuple):\n",
    "    sentance = \" \"\n",
    "    for i in in_tuple:\n",
    "        sentance = sentance + \" \" + i \n",
    "    sentance.\n",
    "    return  sentance.lstrip"
   ]
  },
  {
   "cell_type": "code",
   "execution_count": 56,
   "id": "efc040d8",
   "metadata": {},
   "outputs": [
    {
     "name": "stdout",
     "output_type": "stream",
     "text": [
      "  Hello World from Python\n"
     ]
    }
   ],
   "source": [
    "input_tuple = ('Hello', 'World', 'from', 'Python')\n",
    "output_string = concatenate_strings(input_tuple)\n",
    "print(output_string)"
   ]
  },
  {
   "cell_type": "code",
   "execution_count": 47,
   "id": "bba31e8d",
   "metadata": {},
   "outputs": [
    {
     "name": "stdout",
     "output_type": "stream",
     "text": [
      "Hello World from Python "
     ]
    },
    {
     "data": {
      "text/plain": [
       "[None, None, None, None]"
      ]
     },
     "execution_count": 47,
     "metadata": {},
     "output_type": "execute_result"
    }
   ],
   "source": [
    "list(print(i, end=' ') for i in input_tuple)"
   ]
  },
  {
   "cell_type": "code",
   "execution_count": 58,
   "id": "92401950",
   "metadata": {},
   "outputs": [],
   "source": [
    "input_tuple = (\n",
    "    (1, 2, 3),\n",
    "    (4, 5, 6),\n",
    "    (7, 8, 9)\n",
    ")"
   ]
  },
  {
   "cell_type": "code",
   "execution_count": 63,
   "id": "29ad28ca",
   "metadata": {},
   "outputs": [
    {
     "name": "stdout",
     "output_type": "stream",
     "text": [
      "1\n",
      "5\n",
      "9\n"
     ]
    }
   ],
   "source": [
    "for i in range(len(input_tuple)):\n",
    "    print(input_tuple[i][i])"
   ]
  },
  {
   "cell_type": "code",
   "execution_count": null,
   "id": "0c7c3dfe",
   "metadata": {},
   "outputs": [],
   "source": [
    "def common_elements(tuple1, tuple2):\n",
    "    return tuple(i for i in tuple1 if i in tuple2)"
   ]
  },
  {
   "cell_type": "code",
   "execution_count": 68,
   "id": "59ba5c5c",
   "metadata": {},
   "outputs": [
    {
     "name": "stdout",
     "output_type": "stream",
     "text": [
      "[(1, 4), (2, 5), (3, 6), (4, 7), (5, 8)]\n",
      "None\n"
     ]
    }
   ],
   "source": [
    "tuple1 = (1, 2, 3, 4, 5)\n",
    "tuple2 = (4, 5, 6, 7, 8)\n",
    "output_tuple = common_elements(tuple1, tuple2)\n",
    "print(output_tuple) "
   ]
  },
  {
   "cell_type": "code",
   "execution_count": 69,
   "id": "6b49ebfb",
   "metadata": {},
   "outputs": [
    {
     "data": {
      "text/plain": [
       "(4, 5)"
      ]
     },
     "execution_count": 69,
     "metadata": {},
     "output_type": "execute_result"
    }
   ],
   "source": [
    "tuple(set(tuple1) & set(tuple2))"
   ]
  },
  {
   "cell_type": "code",
   "execution_count": null,
   "id": "400c4299",
   "metadata": {},
   "outputs": [],
   "source": []
  }
 ],
 "metadata": {
  "kernelspec": {
   "display_name": ".venv",
   "language": "python",
   "name": "python3"
  },
  "language_info": {
   "codemirror_mode": {
    "name": "ipython",
    "version": 3
   },
   "file_extension": ".py",
   "mimetype": "text/x-python",
   "name": "python",
   "nbconvert_exporter": "python",
   "pygments_lexer": "ipython3",
   "version": "3.12.2"
  }
 },
 "nbformat": 4,
 "nbformat_minor": 5
}
