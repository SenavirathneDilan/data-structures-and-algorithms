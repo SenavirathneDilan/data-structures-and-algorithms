{
 "cells": [
  {
   "cell_type": "code",
   "execution_count": 1,
   "id": "3ccbe9eb",
   "metadata": {},
   "outputs": [],
   "source": [
    "\n",
    "class Node:\n",
    "    def __init__(self, data):\n",
    "        self.data = data\n",
    "        self.next = None\n",
    "        self.prev = None"
   ]
  },
  {
   "cell_type": "code",
   "execution_count": 2,
   "id": "5c90244c",
   "metadata": {},
   "outputs": [],
   "source": [
    "class DLLinkedList:\n",
    "    def __init__(self):\n",
    "        self.head = None\n",
    "        self.tail = None\n",
    "        self.length = 0\n",
    "    def __str__(self) -> str:\n",
    "        if self.head is None:\n",
    "            return 'empty list'\n",
    "        else:\n",
    "            current_node = self.head\n",
    "            values = ''\n",
    "            while current_node is not None:\n",
    "                values += str(current_node.data)\n",
    "                if current_node.next is not None:\n",
    "                    values += '<-->'\n",
    "                current_node = current_node.next\n",
    "            return values\n",
    "        \n",
    "        return f\"{self.value}\"\n",
    "        \n",
    "    def append(self, data):\n",
    "        new_node = Node(data)\n",
    "        \n",
    "        if self.head is None:\n",
    "            self.head = self.tail = new_node\n",
    "        else:\n",
    "            new_node.prev = self.tail\n",
    "            self.tail.next = new_node\n",
    "            self.tail = new_node\n",
    "        self.length += 1\n",
    "        \n",
    "    def prepend(self, data):\n",
    "        new_node = Node(data)\n",
    "        if self.head is None:\n",
    "            self.head = self.tail = new_node\n",
    "        else:\n",
    "            new_node.next = self.head\n",
    "            self.head.prev = new_node\n",
    "            self.head = new_node\n",
    "        self.length += 1\n",
    "        \n",
    "    def traversal(self):\n",
    "        current_node = self.head\n",
    "        \n",
    "        while current_node:\n",
    "            print(current_node.data)\n",
    "            current_node = current_node.next\n",
    "            \n",
    "    def reverse_traversal(self):\n",
    "        current_node = self.tail\n",
    "        \n",
    "        while current_node:\n",
    "            print(current_node.data)\n",
    "            current_node = current_node.prev\n",
    "            \n",
    "    def search(self, target):\n",
    "        current_node = self.head\n",
    "        is_available: bool = False\n",
    "        index = 0\n",
    "        \n",
    "        while current_node:\n",
    "            if current_node.data == target:\n",
    "                return index\n",
    "            index += 1\n",
    "            current_node = current_node.next\n",
    "        return -9\n",
    "    def get(self, index):\n",
    "        mid = self.length//2\n",
    "        if index <= mid:\n",
    "            current_node = self.head\n",
    "            for _ in range(index):\n",
    "                current_node = current_node.next\n",
    "            print(current_node.data)\n",
    "        else:\n",
    "            current_node = self.tail\n",
    "            \n",
    "            for _ in range(self.length - index):\n",
    "                current_node = current_node.prev\n",
    "            print(current_node.data)\n",
    "    def set(self, index, value):\n",
    "        mid = self.length//2\n",
    "        if index <=  mid:\n",
    "            current_node = self.head\n",
    "            for _ in range(index):\n",
    "                current_node = current_node.next\n",
    "            current_node.data = value\n",
    "        else:\n",
    "            current_node = self.tail.prev\n",
    "            for _ in range(self.length - mid):\n",
    "                current_node = current_node.prev\n",
    "            current_node.data = value\n",
    "            \n",
    "    def insert(self, index, value):\n",
    "        new_node = Node(value)\n",
    "        current_node = self.head\n",
    "        \n",
    "        for _ in range(index - 1):\n",
    "            current_node = current_node.next\n",
    "            \n",
    "        new_node.next = current_node.next\n",
    "        current_node.next = new_node\n",
    "        \n",
    "        new_node.prev = current_node\n",
    "        new_node.next.prev = current_node\n",
    "            \n",
    "            \n",
    "        \n",
    "            \n",
    "            "
   ]
  },
  {
   "cell_type": "code",
   "execution_count": 3,
   "id": "85fcdc83",
   "metadata": {},
   "outputs": [
    {
     "name": "stdout",
     "output_type": "stream",
     "text": [
      "0<-->1<-->2<-->3<-->4<-->5<-->6<-->7<-->8<-->9\n"
     ]
    }
   ],
   "source": [
    "a = DLLinkedList()\n",
    "for b in range(10):\n",
    "    a.append(b)\n",
    "print(a)"
   ]
  },
  {
   "cell_type": "code",
   "execution_count": 4,
   "id": "71967d52",
   "metadata": {},
   "outputs": [],
   "source": [
    "a.insert(8,999)"
   ]
  },
  {
   "cell_type": "code",
   "execution_count": 5,
   "id": "65ffe5cc",
   "metadata": {},
   "outputs": [
    {
     "name": "stdout",
     "output_type": "stream",
     "text": [
      "0<-->1<-->2<-->3<-->4<-->5<-->6<-->7<-->999<-->8<-->9\n"
     ]
    }
   ],
   "source": [
    "print(a)\n"
   ]
  },
  {
   "cell_type": "code",
   "execution_count": null,
   "id": "c6efd151",
   "metadata": {},
   "outputs": [],
   "source": []
  }
 ],
 "metadata": {
  "kernelspec": {
   "display_name": ".venv",
   "language": "python",
   "name": "python3"
  },
  "language_info": {
   "codemirror_mode": {
    "name": "ipython",
    "version": 3
   },
   "file_extension": ".py",
   "mimetype": "text/x-python",
   "name": "python",
   "nbconvert_exporter": "python",
   "pygments_lexer": "ipython3",
   "version": "3.12.5"
  }
 },
 "nbformat": 4,
 "nbformat_minor": 5
}
