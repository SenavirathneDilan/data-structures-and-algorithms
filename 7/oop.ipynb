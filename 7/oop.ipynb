{
 "cells": [
  {
   "cell_type": "code",
   "execution_count": null,
   "id": "eb688faa",
   "metadata": {},
   "outputs": [],
   "source": [
    "\n",
    "    \n",
    "    "
   ]
  },
  {
   "cell_type": "code",
   "execution_count": 1,
   "id": "effc0b76",
   "metadata": {},
   "outputs": [
    {
     "ename": "NameError",
     "evalue": "name 'starCookie' is not defined",
     "output_type": "error",
     "traceback": [
      "\u001b[31m---------------------------------------------------------------------------\u001b[39m",
      "\u001b[31mNameError\u001b[39m                                 Traceback (most recent call last)",
      "\u001b[36mCell\u001b[39m\u001b[36m \u001b[39m\u001b[32mIn[1]\u001b[39m\u001b[32m, line 1\u001b[39m\n\u001b[32m----> \u001b[39m\u001b[32m1\u001b[39m a = \u001b[43mstarCookie\u001b[49m(\u001b[32m13\u001b[39m, \u001b[33m\"\u001b[39m\u001b[33mmessage\u001b[39m\u001b[33m\"\u001b[39m)\n",
      "\u001b[31mNameError\u001b[39m: name 'starCookie' is not defined"
     ]
    }
   ],
   "source": [
    "a = starCookie(13, \"message\")"
   ]
  },
  {
   "cell_type": "code",
   "execution_count": null,
   "id": "5938115b",
   "metadata": {},
   "outputs": [
    {
     "data": {
      "text/plain": [
       "13"
      ]
     },
     "execution_count": 72,
     "metadata": {},
     "output_type": "execute_result"
    }
   ],
   "source": [
    "a.weight"
   ]
  },
  {
   "cell_type": "code",
   "execution_count": 6,
   "id": "0f44768d",
   "metadata": {},
   "outputs": [],
   "source": [
    "class Youtube:\n",
    "    def __init__(self, username, subscribers=0, subscriptions=0):\n",
    "        self.username = username\n",
    "        self.subscribers = subscribers\n",
    "        self.subscribers = subscribers\n",
    "    def subscribe(self, user):\n",
    "        user.subscribers += 1\n",
    "        self.subscription += 1\n",
    "        "
   ]
  },
  {
   "cell_type": "code",
   "execution_count": 7,
   "id": "9b1d2082",
   "metadata": {},
   "outputs": [],
   "source": [
    "user1 = Youtube('dilan')\n",
    "user2 = Youtube('arjuna')"
   ]
  },
  {
   "cell_type": "code",
   "execution_count": 8,
   "id": "57e9f160",
   "metadata": {},
   "outputs": [
    {
     "ename": "AttributeError",
     "evalue": "'Youtube' object has no attribute 'subscription'",
     "output_type": "error",
     "traceback": [
      "\u001b[31m---------------------------------------------------------------------------\u001b[39m",
      "\u001b[31mAttributeError\u001b[39m                            Traceback (most recent call last)",
      "\u001b[36mCell\u001b[39m\u001b[36m \u001b[39m\u001b[32mIn[8]\u001b[39m\u001b[32m, line 1\u001b[39m\n\u001b[32m----> \u001b[39m\u001b[32m1\u001b[39m \u001b[43muser1\u001b[49m\u001b[43m.\u001b[49m\u001b[43msubscribe\u001b[49m\u001b[43m(\u001b[49m\u001b[43muser2\u001b[49m\u001b[43m)\u001b[49m\n",
      "\u001b[36mCell\u001b[39m\u001b[36m \u001b[39m\u001b[32mIn[6]\u001b[39m\u001b[32m, line 8\u001b[39m, in \u001b[36mYoutube.subscribe\u001b[39m\u001b[34m(self, user)\u001b[39m\n\u001b[32m      6\u001b[39m \u001b[38;5;28;01mdef\u001b[39;00m\u001b[38;5;250m \u001b[39m\u001b[34msubscribe\u001b[39m(\u001b[38;5;28mself\u001b[39m, user):\n\u001b[32m      7\u001b[39m     user.subscribers += \u001b[32m1\u001b[39m\n\u001b[32m----> \u001b[39m\u001b[32m8\u001b[39m     \u001b[38;5;28;43mself\u001b[39;49m\u001b[43m.\u001b[49m\u001b[43msubscription\u001b[49m += \u001b[32m1\u001b[39m\n",
      "\u001b[31mAttributeError\u001b[39m: 'Youtube' object has no attribute 'subscription'"
     ]
    }
   ],
   "source": [
    "user1.subscribe(user2)"
   ]
  },
  {
   "cell_type": "code",
   "execution_count": null,
   "id": "04ab914c",
   "metadata": {},
   "outputs": [],
   "source": [
    "class StarCookie:\n",
    "    milk = 0.1\n",
    "    def __init__(self, color, weight):\n",
    "        self.color = color\n",
    "        self.weight = weight\n",
    "    def print_message(self):\n",
    "        self.battry_lvel"
   ]
  },
  {
   "cell_type": "code",
   "execution_count": null,
   "id": "633d3e03",
   "metadata": {},
   "outputs": [],
   "source": [
    "c1 = StarCookie('red', 16)\n",
    "c2 = StarCookie('blue', 19)"
   ]
  },
  {
   "cell_type": "code",
   "execution_count": null,
   "id": "53003c59",
   "metadata": {},
   "outputs": [
    {
     "ename": "AttributeError",
     "evalue": "'StarCookie' object has no attribute 'message'",
     "output_type": "error",
     "traceback": [
      "\u001b[31m---------------------------------------------------------------------------\u001b[39m",
      "\u001b[31mAttributeError\u001b[39m                            Traceback (most recent call last)",
      "\u001b[36mCell\u001b[39m\u001b[36m \u001b[39m\u001b[32mIn[100]\u001b[39m\u001b[32m, line 1\u001b[39m\n\u001b[32m----> \u001b[39m\u001b[32m1\u001b[39m \u001b[43mc1\u001b[49m\u001b[43m.\u001b[49m\u001b[43mprint_message\u001b[49m\u001b[43m(\u001b[49m\u001b[43m)\u001b[49m\n",
      "\u001b[36mCell\u001b[39m\u001b[36m \u001b[39m\u001b[32mIn[95]\u001b[39m\u001b[32m, line 7\u001b[39m, in \u001b[36mStarCookie.print_message\u001b[39m\u001b[34m(self)\u001b[39m\n\u001b[32m      6\u001b[39m \u001b[38;5;28;01mdef\u001b[39;00m\u001b[38;5;250m \u001b[39m\u001b[34mprint_message\u001b[39m(\u001b[38;5;28mself\u001b[39m):\n\u001b[32m----> \u001b[39m\u001b[32m7\u001b[39m     \u001b[38;5;28mprint\u001b[39m(\u001b[38;5;28;43mself\u001b[39;49m\u001b[43m.\u001b[49m\u001b[43mmessage\u001b[49m)\n",
      "\u001b[31mAttributeError\u001b[39m: 'StarCookie' object has no attribute 'message'"
     ]
    }
   ],
   "source": [
    "c1.print_message()"
   ]
  },
  {
   "cell_type": "code",
   "execution_count": null,
   "id": "c52348b1",
   "metadata": {},
   "outputs": [
    {
     "data": {
      "text/plain": [
       "{'color': 'red', 'weight': 16}"
      ]
     },
     "execution_count": 93,
     "metadata": {},
     "output_type": "execute_result"
    }
   ],
   "source": [
    "c1.__dict__"
   ]
  },
  {
   "cell_type": "code",
   "execution_count": null,
   "id": "335c0a99",
   "metadata": {},
   "outputs": [
    {
     "data": {
      "text/plain": [
       "mappingproxy({'__module__': '__main__',\n",
       "              'milk': 0.1,\n",
       "              '__init__': <function __main__.StarCookie.__init__(self, color, weight)>,\n",
       "              '__dict__': <attribute '__dict__' of 'StarCookie' objects>,\n",
       "              '__weakref__': <attribute '__weakref__' of 'StarCookie' objects>,\n",
       "              '__doc__': None})"
      ]
     },
     "execution_count": 94,
     "metadata": {},
     "output_type": "execute_result"
    }
   ],
   "source": [
    "StarCookie.__dict__"
   ]
  },
  {
   "cell_type": "code",
   "execution_count": null,
   "id": "10e7c5f8",
   "metadata": {},
   "outputs": [],
   "source": []
  }
 ],
 "metadata": {
  "kernelspec": {
   "display_name": ".venv",
   "language": "python",
   "name": "python3"
  },
  "language_info": {
   "codemirror_mode": {
    "name": "ipython",
    "version": 3
   },
   "file_extension": ".py",
   "mimetype": "text/x-python",
   "name": "python",
   "nbconvert_exporter": "python",
   "pygments_lexer": "ipython3",
   "version": "3.12.2"
  }
 },
 "nbformat": 4,
 "nbformat_minor": 5
}
