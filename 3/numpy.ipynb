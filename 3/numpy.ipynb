{
 "cells": [
  {
   "cell_type": "code",
   "execution_count": 1,
   "id": "20279aa1",
   "metadata": {},
   "outputs": [],
   "source": [
    "import numpy as np"
   ]
  },
  {
   "cell_type": "code",
   "execution_count": 2,
   "id": "447b57a2",
   "metadata": {},
   "outputs": [],
   "source": [
    "twoDArray = np.array([[11,15,10,6], [10,14,11,5], [12, 17, 12, 8],[15, 18, 14, 9]])"
   ]
  },
  {
   "cell_type": "code",
   "execution_count": 3,
   "id": "e483c7b5",
   "metadata": {},
   "outputs": [
    {
     "name": "stdout",
     "output_type": "stream",
     "text": [
      "[[11 15 10  6]\n",
      " [10 14 11  5]\n",
      " [12 17 12  8]\n",
      " [15 18 14  9]]\n"
     ]
    }
   ],
   "source": [
    "\n",
    "print(twoDArray)"
   ]
  },
  {
   "cell_type": "code",
   "execution_count": null,
   "id": "295f9b9f",
   "metadata": {},
   "outputs": [
    {
     "data": {
      "text/plain": [
       "np.int64(10)"
      ]
     },
     "execution_count": 6,
     "metadata": {},
     "output_type": "execute_result"
    }
   ],
   "source": [
    "twoDArray[1][0]\n",
    "\n",
    "# time complexity is O nn\n",
    "# space complexity is o nm"
   ]
  },
  {
   "cell_type": "code",
   "execution_count": 7,
   "id": "b6d973f0",
   "metadata": {},
   "outputs": [
    {
     "data": {
      "text/plain": [
       "(4, 4)"
      ]
     },
     "execution_count": 7,
     "metadata": {},
     "output_type": "execute_result"
    }
   ],
   "source": [
    "twoDArray.shape"
   ]
  },
  {
   "cell_type": "code",
   "execution_count": 11,
   "id": "fe06f176",
   "metadata": {},
   "outputs": [],
   "source": [
    "r1 = [2,3,6, 56]"
   ]
  },
  {
   "cell_type": "code",
   "execution_count": 13,
   "id": "c03b3b18",
   "metadata": {},
   "outputs": [],
   "source": [
    "new2da = np.insert(twoDArray, 0, [r1], axis=1)"
   ]
  },
  {
   "cell_type": "code",
   "execution_count": 24,
   "id": "590a8069",
   "metadata": {},
   "outputs": [
    {
     "data": {
      "text/plain": [
       "array([[ 2, 11, 15, 10,  6],\n",
       "       [ 3, 10, 14, 11,  5],\n",
       "       [ 6, 12, 17, 12,  8],\n",
       "       [56, 15, 18, 14,  9]])"
      ]
     },
     "execution_count": 24,
     "metadata": {},
     "output_type": "execute_result"
    }
   ],
   "source": [
    "new2da"
   ]
  },
  {
   "cell_type": "code",
   "execution_count": 23,
   "id": "386a0808",
   "metadata": {},
   "outputs": [
    {
     "data": {
      "text/plain": [
       "(4, 5)"
      ]
     },
     "execution_count": 23,
     "metadata": {},
     "output_type": "execute_result"
    }
   ],
   "source": [
    "new2da.shape"
   ]
  },
  {
   "cell_type": "code",
   "execution_count": 20,
   "id": "5e4c19ee",
   "metadata": {},
   "outputs": [
    {
     "data": {
      "text/plain": [
       "array([[56, 15, 18, 14,  9]])"
      ]
     },
     "execution_count": 20,
     "metadata": {},
     "output_type": "execute_result"
    }
   ],
   "source": [
    "new2da[2:][1:4:2]"
   ]
  },
  {
   "cell_type": "code",
   "execution_count": null,
   "id": "13d33978",
   "metadata": {},
   "outputs": [],
   "source": [
    "\n",
    "def access_element(array, row_index, col_index):\n",
    "    r, c = array.shape\n",
    "    if (row_index >= r) and (col_index >=  c):\n",
    "        print(\"index are out of bound\")\n",
    "        return 0\n",
    "    else:\n",
    "        return array[row_index][col_index]"
   ]
  },
  {
   "cell_type": "code",
   "execution_count": 26,
   "id": "485a190e",
   "metadata": {},
   "outputs": [
    {
     "name": "stdout",
     "output_type": "stream",
     "text": [
      "5\n"
     ]
    }
   ],
   "source": [
    "print(access_element(new2da, 1, 4))"
   ]
  },
  {
   "cell_type": "code",
   "execution_count": 37,
   "id": "fb072ada",
   "metadata": {},
   "outputs": [],
   "source": [
    "def traverse(array):\n",
    "    r, c = array.shape\n",
    "    for i in range(r):\n",
    "        for j in range(c):\n",
    "            print(array[i][j])"
   ]
  },
  {
   "cell_type": "code",
   "execution_count": 39,
   "id": "d68c6885",
   "metadata": {},
   "outputs": [
    {
     "name": "stdout",
     "output_type": "stream",
     "text": [
      "2\n",
      "11\n",
      "15\n",
      "10\n",
      "6\n",
      "3\n",
      "10\n",
      "14\n",
      "11\n",
      "5\n",
      "6\n",
      "12\n",
      "17\n",
      "12\n",
      "8\n",
      "56\n",
      "15\n",
      "18\n",
      "14\n",
      "9\n"
     ]
    }
   ],
   "source": [
    "traverse(new2da)"
   ]
  },
  {
   "cell_type": "code",
   "execution_count": 48,
   "id": "7bf7c59e",
   "metadata": {},
   "outputs": [],
   "source": [
    "def search_array(array, value):\n",
    "    r,c = array.shape\n",
    "    for i in range(r):\n",
    "        for j in range(c):\n",
    "            if not array[i][j] == value:\n",
    "                continue\n",
    "            else:\n",
    "                print(f'item found at {i}:{j}')\n",
    "                return 0"
   ]
  },
  {
   "cell_type": "code",
   "execution_count": 49,
   "id": "f90c336c",
   "metadata": {},
   "outputs": [
    {
     "name": "stdout",
     "output_type": "stream",
     "text": [
      "item found at 0:3\n"
     ]
    },
    {
     "data": {
      "text/plain": [
       "0"
      ]
     },
     "execution_count": 49,
     "metadata": {},
     "output_type": "execute_result"
    }
   ],
   "source": [
    "\n",
    "search_array(new2da,10)"
   ]
  },
  {
   "cell_type": "code",
   "execution_count": 50,
   "id": "9bb21841",
   "metadata": {},
   "outputs": [
    {
     "data": {
      "text/plain": [
       "array([[ 2, 11, 15, 10,  6],\n",
       "       [ 3, 10, 14, 11,  5],\n",
       "       [ 6, 12, 17, 12,  8],\n",
       "       [56, 15, 18, 14,  9]])"
      ]
     },
     "execution_count": 50,
     "metadata": {},
     "output_type": "execute_result"
    }
   ],
   "source": [
    "new2da"
   ]
  },
  {
   "cell_type": "code",
   "execution_count": 51,
   "id": "47e40503",
   "metadata": {},
   "outputs": [
    {
     "data": {
      "text/plain": [
       "array([[ 2, 11, 15, 10,  6],\n",
       "       [ 6, 12, 17, 12,  8],\n",
       "       [56, 15, 18, 14,  9]])"
      ]
     },
     "execution_count": 51,
     "metadata": {},
     "output_type": "execute_result"
    }
   ],
   "source": [
    "np.delete(new2da, 1, axis=0)"
   ]
  },
  {
   "cell_type": "code",
   "execution_count": 52,
   "id": "3a8059e2",
   "metadata": {},
   "outputs": [
    {
     "data": {
      "text/plain": [
       "array([[ 2, 11, 15, 10,  6],\n",
       "       [ 3, 10, 14, 11,  5],\n",
       "       [ 6, 12, 17, 12,  8],\n",
       "       [56, 15, 18, 14,  9]])"
      ]
     },
     "execution_count": 52,
     "metadata": {},
     "output_type": "execute_result"
    }
   ],
   "source": [
    "new2da"
   ]
  },
  {
   "cell_type": "code",
   "execution_count": null,
   "id": "c48cf077",
   "metadata": {},
   "outputs": [],
   "source": []
  }
 ],
 "metadata": {
  "kernelspec": {
   "display_name": ".venv",
   "language": "python",
   "name": "python3"
  },
  "language_info": {
   "codemirror_mode": {
    "name": "ipython",
    "version": 3
   },
   "file_extension": ".py",
   "mimetype": "text/x-python",
   "name": "python",
   "nbconvert_exporter": "python",
   "pygments_lexer": "ipython3",
   "version": "3.12.2"
  }
 },
 "nbformat": 4,
 "nbformat_minor": 5
}
