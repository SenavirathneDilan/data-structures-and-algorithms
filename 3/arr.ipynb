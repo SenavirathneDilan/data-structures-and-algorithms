{
 "cells": [
  {
   "cell_type": "code",
   "execution_count": 2,
   "id": "b2bf65a0",
   "metadata": {},
   "outputs": [],
   "source": [
    "import numpy as np"
   ]
  },
  {
   "cell_type": "code",
   "execution_count": 13,
   "id": "8301cd2c",
   "metadata": {},
   "outputs": [],
   "source": [
    "from array import *\n"
   ]
  },
  {
   "cell_type": "code",
   "execution_count": 4,
   "id": "f391ae08",
   "metadata": {},
   "outputs": [],
   "source": [
    "my_array = array.array('i', range(6))"
   ]
  },
  {
   "cell_type": "code",
   "execution_count": 5,
   "id": "6e807a37",
   "metadata": {},
   "outputs": [
    {
     "data": {
      "text/plain": [
       "array('i', [0, 1, 2, 3, 4, 5])"
      ]
     },
     "execution_count": 5,
     "metadata": {},
     "output_type": "execute_result"
    }
   ],
   "source": [
    "my_array"
   ]
  },
  {
   "cell_type": "code",
   "execution_count": 6,
   "id": "210877f9",
   "metadata": {},
   "outputs": [],
   "source": [
    "a1 = np.array(range(10))"
   ]
  },
  {
   "cell_type": "code",
   "execution_count": 7,
   "id": "b85bb8ef",
   "metadata": {},
   "outputs": [
    {
     "data": {
      "text/plain": [
       "array([5])"
      ]
     },
     "execution_count": 7,
     "metadata": {},
     "output_type": "execute_result"
    }
   ],
   "source": [
    "a1[5:6]"
   ]
  },
  {
   "cell_type": "code",
   "execution_count": null,
   "id": "0372f9e7",
   "metadata": {},
   "outputs": [],
   "source": []
  },
  {
   "cell_type": "code",
   "execution_count": 8,
   "id": "bab6e56c",
   "metadata": {},
   "outputs": [
    {
     "data": {
      "text/plain": [
       "np.int64(9)"
      ]
     },
     "execution_count": 8,
     "metadata": {},
     "output_type": "execute_result"
    }
   ],
   "source": [
    "a1[len(a1)-1]"
   ]
  },
  {
   "cell_type": "code",
   "execution_count": null,
   "id": "37146d38",
   "metadata": {},
   "outputs": [],
   "source": [
    "a = array.array('i', range(6))"
   ]
  },
  {
   "cell_type": "code",
   "execution_count": null,
   "id": "9bafa9ac",
   "metadata": {},
   "outputs": [
    {
     "data": {
      "text/plain": [
       "array('i', [0, 1, 2, 3, 4, 5])"
      ]
     },
     "execution_count": 31,
     "metadata": {},
     "output_type": "execute_result"
    }
   ],
   "source": [
    "a"
   ]
  },
  {
   "cell_type": "code",
   "execution_count": null,
   "id": "54780276",
   "metadata": {},
   "outputs": [],
   "source": [
    "a.remove(5)"
   ]
  },
  {
   "cell_type": "code",
   "execution_count": null,
   "id": "d5130cb2",
   "metadata": {},
   "outputs": [
    {
     "data": {
      "text/plain": [
       "array('i', [0, 1, 2, 3, 4])"
      ]
     },
     "execution_count": 33,
     "metadata": {},
     "output_type": "execute_result"
    }
   ],
   "source": [
    "a"
   ]
  },
  {
   "cell_type": "code",
   "execution_count": null,
   "id": "a44e0b03",
   "metadata": {},
   "outputs": [],
   "source": [
    "from array import *"
   ]
  },
  {
   "cell_type": "code",
   "execution_count": null,
   "id": "472eaafb",
   "metadata": {},
   "outputs": [],
   "source": [
    "a1 = array('i', range(5))"
   ]
  },
  {
   "cell_type": "code",
   "execution_count": null,
   "id": "4d1c88fb",
   "metadata": {},
   "outputs": [
    {
     "name": "stdout",
     "output_type": "stream",
     "text": [
      "0\n",
      "1\n",
      "2\n",
      "3\n",
      "4\n"
     ]
    }
   ],
   "source": [
    "for i in a1:\n",
    "    print(i)"
   ]
  },
  {
   "cell_type": "code",
   "execution_count": null,
   "id": "ad4fbc47",
   "metadata": {},
   "outputs": [
    {
     "data": {
      "text/plain": [
       "1"
      ]
     },
     "execution_count": 8,
     "metadata": {},
     "output_type": "execute_result"
    }
   ],
   "source": [
    "a1[1]"
   ]
  },
  {
   "cell_type": "code",
   "execution_count": null,
   "id": "9330e73a",
   "metadata": {},
   "outputs": [],
   "source": [
    "a1.append(999)"
   ]
  },
  {
   "cell_type": "code",
   "execution_count": null,
   "id": "33ad4c22",
   "metadata": {},
   "outputs": [
    {
     "data": {
      "text/plain": [
       "array('i', [0, 1, 2, 3, 4, 999])"
      ]
     },
     "execution_count": 10,
     "metadata": {},
     "output_type": "execute_result"
    }
   ],
   "source": [
    "a1"
   ]
  },
  {
   "cell_type": "code",
   "execution_count": null,
   "id": "b04bd2aa",
   "metadata": {},
   "outputs": [],
   "source": [
    "a1.insert(2,888)"
   ]
  },
  {
   "cell_type": "code",
   "execution_count": null,
   "id": "5a0d203c",
   "metadata": {},
   "outputs": [
    {
     "data": {
      "text/plain": [
       "array('i', [0, 1, 888, 2, 3, 4, 999])"
      ]
     },
     "execution_count": 12,
     "metadata": {},
     "output_type": "execute_result"
    }
   ],
   "source": [
    "a1"
   ]
  },
  {
   "cell_type": "code",
   "execution_count": null,
   "id": "5e2d7f42",
   "metadata": {},
   "outputs": [],
   "source": [
    "a2 =  array('i', range(56,25, -6))"
   ]
  },
  {
   "cell_type": "code",
   "execution_count": null,
   "id": "19d5b67a",
   "metadata": {},
   "outputs": [
    {
     "data": {
      "text/plain": [
       "array('i', [56, 50, 44, 38, 32, 26])"
      ]
     },
     "execution_count": 15,
     "metadata": {},
     "output_type": "execute_result"
    }
   ],
   "source": [
    "a2"
   ]
  },
  {
   "cell_type": "code",
   "execution_count": null,
   "id": "1d4d4b42",
   "metadata": {},
   "outputs": [],
   "source": [
    "a1.extend(a2)"
   ]
  },
  {
   "cell_type": "code",
   "execution_count": null,
   "id": "7a995721",
   "metadata": {},
   "outputs": [
    {
     "data": {
      "text/plain": [
       "array('i', [0, 1, 888, 2, 3, 4, 999, 56, 50, 44, 38, 32, 26])"
      ]
     },
     "execution_count": 17,
     "metadata": {},
     "output_type": "execute_result"
    }
   ],
   "source": [
    "a1"
   ]
  },
  {
   "cell_type": "code",
   "execution_count": null,
   "id": "d625eb99",
   "metadata": {},
   "outputs": [
    {
     "data": {
      "text/plain": [
       "array('i', [0, 1, 888, 2, 3, 4, 999, 56, 50, 44, 38, 32, 26])"
      ]
     },
     "execution_count": 18,
     "metadata": {},
     "output_type": "execute_result"
    }
   ],
   "source": [
    "a1"
   ]
  },
  {
   "cell_type": "code",
   "execution_count": null,
   "id": "bc982f1e",
   "metadata": {},
   "outputs": [],
   "source": [
    "a1.remove(999)"
   ]
  },
  {
   "cell_type": "code",
   "execution_count": null,
   "id": "16693edf",
   "metadata": {},
   "outputs": [
    {
     "data": {
      "text/plain": [
       "array('i', [0, 1, 888, 2, 3, 4, 56, 50, 44, 38, 32, 26])"
      ]
     },
     "execution_count": 20,
     "metadata": {},
     "output_type": "execute_result"
    }
   ],
   "source": [
    "a1"
   ]
  },
  {
   "cell_type": "code",
   "execution_count": null,
   "id": "877632b0",
   "metadata": {},
   "outputs": [
    {
     "data": {
      "text/plain": [
       "26"
      ]
     },
     "execution_count": 25,
     "metadata": {},
     "output_type": "execute_result"
    }
   ],
   "source": [
    "a1.pop()"
   ]
  },
  {
   "cell_type": "code",
   "execution_count": null,
   "id": "5c0b41fd",
   "metadata": {},
   "outputs": [],
   "source": [
    "a1.insert(5, 666)"
   ]
  },
  {
   "cell_type": "code",
   "execution_count": null,
   "id": "0c08fee1",
   "metadata": {},
   "outputs": [
    {
     "data": {
      "text/plain": [
       "array('i', [0, 1, 888, 2, 3, 666, 4, 56, 50, 44, 38, 32])"
      ]
     },
     "execution_count": 27,
     "metadata": {},
     "output_type": "execute_result"
    }
   ],
   "source": [
    "a1"
   ]
  },
  {
   "cell_type": "code",
   "execution_count": null,
   "id": "a2a0ce87",
   "metadata": {},
   "outputs": [
    {
     "data": {
      "text/plain": [
       "2"
      ]
     },
     "execution_count": 38,
     "metadata": {},
     "output_type": "execute_result"
    }
   ],
   "source": [
    "\n",
    "a1.index(888)"
   ]
  },
  {
   "cell_type": "code",
   "execution_count": null,
   "id": "390e1801",
   "metadata": {},
   "outputs": [],
   "source": [
    "a2 = array('i', range(5))"
   ]
  },
  {
   "cell_type": "code",
   "execution_count": null,
   "id": "476c8908",
   "metadata": {},
   "outputs": [],
   "source": [
    "r = a2.reverse()"
   ]
  },
  {
   "cell_type": "code",
   "execution_count": null,
   "id": "477fa52f",
   "metadata": {},
   "outputs": [],
   "source": [
    "from array import *"
   ]
  },
  {
   "cell_type": "code",
   "execution_count": 14,
   "id": "29bdb054",
   "metadata": {},
   "outputs": [],
   "source": [
    "arr = array('i', [1,2,3,5,6])"
   ]
  },
  {
   "cell_type": "code",
   "execution_count": 15,
   "id": "af29bbe2",
   "metadata": {},
   "outputs": [
    {
     "name": "stdout",
     "output_type": "stream",
     "text": [
      "None\n"
     ]
    }
   ],
   "source": [
    "print(arr.reverse())"
   ]
  },
  {
   "cell_type": "code",
   "execution_count": 16,
   "id": "89c884d0",
   "metadata": {},
   "outputs": [
    {
     "name": "stdout",
     "output_type": "stream",
     "text": [
      "(136982166149328, 5)\n"
     ]
    }
   ],
   "source": [
    "print(arr.buffer_info())"
   ]
  },
  {
   "cell_type": "code",
   "execution_count": 20,
   "id": "f57c6fdf",
   "metadata": {},
   "outputs": [],
   "source": [
    "arr.insert(5,4)"
   ]
  },
  {
   "cell_type": "code",
   "execution_count": 22,
   "id": "3af95dbb",
   "metadata": {},
   "outputs": [
    {
     "data": {
      "text/plain": [
       "2"
      ]
     },
     "execution_count": 22,
     "metadata": {},
     "output_type": "execute_result"
    }
   ],
   "source": [
    "arr.count(4)"
   ]
  },
  {
   "cell_type": "code",
   "execution_count": 25,
   "id": "50393af5",
   "metadata": {},
   "outputs": [
    {
     "name": "stdout",
     "output_type": "stream",
     "text": [
      "None\n"
     ]
    }
   ],
   "source": [
    "print(arr.reverse())\n"
   ]
  },
  {
   "cell_type": "code",
   "execution_count": 27,
   "id": "f19d0739",
   "metadata": {},
   "outputs": [],
   "source": [
    "str_array =  arr.tobytes()"
   ]
  },
  {
   "cell_type": "code",
   "execution_count": 28,
   "id": "3431284f",
   "metadata": {},
   "outputs": [
    {
     "data": {
      "text/plain": [
       "b'\\x06\\x00\\x00\\x00\\x04\\x00\\x00\\x00\\x05\\x00\\x00\\x00\\x03\\x00\\x00\\x00\\x02\\x00\\x00\\x00\\x04\\x00\\x00\\x00\\x01\\x00\\x00\\x00'"
      ]
     },
     "execution_count": 28,
     "metadata": {},
     "output_type": "execute_result"
    }
   ],
   "source": [
    "str_array"
   ]
  },
  {
   "cell_type": "code",
   "execution_count": 30,
   "id": "c0445fb1",
   "metadata": {},
   "outputs": [],
   "source": [
    "ints = array('i')\n",
    "ints.frombytes(str_array)"
   ]
  },
  {
   "cell_type": "code",
   "execution_count": 31,
   "id": "0eca1572",
   "metadata": {},
   "outputs": [
    {
     "name": "stdout",
     "output_type": "stream",
     "text": [
      "b'\\x06\\x00\\x00\\x00\\x04\\x00\\x00\\x00\\x05\\x00\\x00\\x00\\x03\\x00\\x00\\x00\\x02\\x00\\x00\\x00\\x04\\x00\\x00\\x00\\x01\\x00\\x00\\x00'\n"
     ]
    }
   ],
   "source": [
    "print(str_array)"
   ]
  },
  {
   "cell_type": "code",
   "execution_count": 33,
   "id": "684046d6",
   "metadata": {},
   "outputs": [
    {
     "data": {
      "text/plain": [
       "[6, 4, 5, 3, 2, 4, 1]"
      ]
     },
     "execution_count": 33,
     "metadata": {},
     "output_type": "execute_result"
    }
   ],
   "source": [
    "arr.tolist()"
   ]
  },
  {
   "cell_type": "code",
   "execution_count": 35,
   "id": "33f556e3",
   "metadata": {},
   "outputs": [
    {
     "data": {
      "text/plain": [
       "array('i', [3, 2, 4, 1])"
      ]
     },
     "execution_count": 35,
     "metadata": {},
     "output_type": "execute_result"
    }
   ],
   "source": [
    "arr[3:]"
   ]
  },
  {
   "cell_type": "code",
   "execution_count": null,
   "id": "b1d495a2",
   "metadata": {},
   "outputs": [],
   "source": []
  }
 ],
 "metadata": {
  "kernelspec": {
   "display_name": ".venv",
   "language": "python",
   "name": "python3"
  },
  "language_info": {
   "codemirror_mode": {
    "name": "ipython",
    "version": 3
   },
   "file_extension": ".py",
   "mimetype": "text/x-python",
   "name": "python",
   "nbconvert_exporter": "python",
   "pygments_lexer": "ipython3",
   "version": "3.12.2"
  }
 },
 "nbformat": 4,
 "nbformat_minor": 5
}
