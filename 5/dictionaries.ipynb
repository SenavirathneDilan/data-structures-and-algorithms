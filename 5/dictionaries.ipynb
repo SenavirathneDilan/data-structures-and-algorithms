{
 "cells": [
  {
   "cell_type": "code",
   "execution_count": 1,
   "id": "8db75524",
   "metadata": {},
   "outputs": [
    {
     "name": "stdout",
     "output_type": "stream",
     "text": [
      "test\n"
     ]
    }
   ],
   "source": [
    "print('test')"
   ]
  },
  {
   "cell_type": "code",
   "execution_count": 15,
   "id": "86cbdf7f",
   "metadata": {},
   "outputs": [],
   "source": [
    "a = {'k1': 'val1', 'k2': 'val2'}"
   ]
  },
  {
   "cell_type": "code",
   "execution_count": 3,
   "id": "05dde96a",
   "metadata": {},
   "outputs": [],
   "source": [
    "eng_sp = dict(one='uno', two='dos', three='tres')"
   ]
  },
  {
   "cell_type": "code",
   "execution_count": 4,
   "id": "1c38a491",
   "metadata": {},
   "outputs": [
    {
     "name": "stdout",
     "output_type": "stream",
     "text": [
      "{'one': 'uno', 'two': 'dos', 'three': 'tres'}\n"
     ]
    }
   ],
   "source": [
    "print(eng_sp)"
   ]
  },
  {
   "cell_type": "code",
   "execution_count": 5,
   "id": "7f3bc569",
   "metadata": {},
   "outputs": [],
   "source": [
    "eng_sp3 = [('one','uno'), ('two','dos'), ('three', 'tres')]"
   ]
  },
  {
   "cell_type": "code",
   "execution_count": 6,
   "id": "c194a2d2",
   "metadata": {},
   "outputs": [],
   "source": [
    "eng_sp3 = dict(eng_sp3)"
   ]
  },
  {
   "cell_type": "code",
   "execution_count": 7,
   "id": "35afbc4e",
   "metadata": {},
   "outputs": [
    {
     "data": {
      "text/plain": [
       "{'one': 'uno', 'two': 'dos', 'three': 'tres'}"
      ]
     },
     "execution_count": 7,
     "metadata": {},
     "output_type": "execute_result"
    }
   ],
   "source": [
    "eng_sp3"
   ]
  },
  {
   "cell_type": "code",
   "execution_count": 8,
   "id": "86da2309",
   "metadata": {},
   "outputs": [
    {
     "name": "stdout",
     "output_type": "stream",
     "text": [
      "3\n",
      "2\n",
      "1\n",
      "321\n"
     ]
    }
   ],
   "source": [
    "n = 123\n",
    "rev = 0\n",
    "\n",
    "while n>0:\n",
    "    a = n%10\n",
    "    print(a)\n",
    "    rev = rev*10 +a\n",
    "    n = n//10\n",
    "    \n",
    "print(rev)"
   ]
  },
  {
   "cell_type": "code",
   "execution_count": 9,
   "id": "680edb27",
   "metadata": {},
   "outputs": [
    {
     "data": {
      "text/plain": [
       "3"
      ]
     },
     "execution_count": 9,
     "metadata": {},
     "output_type": "execute_result"
    }
   ],
   "source": [
    "123%10"
   ]
  },
  {
   "cell_type": "code",
   "execution_count": 10,
   "id": "5d6e02c2",
   "metadata": {},
   "outputs": [
    {
     "data": {
      "text/plain": [
       "12"
      ]
     },
     "execution_count": 10,
     "metadata": {},
     "output_type": "execute_result"
    }
   ],
   "source": [
    "123//10"
   ]
  },
  {
   "cell_type": "code",
   "execution_count": 11,
   "id": "8028a9e7",
   "metadata": {},
   "outputs": [
    {
     "data": {
      "text/plain": [
       "1"
      ]
     },
     "execution_count": 11,
     "metadata": {},
     "output_type": "execute_result"
    }
   ],
   "source": [
    "a"
   ]
  },
  {
   "cell_type": "code",
   "execution_count": 12,
   "id": "d753432c",
   "metadata": {},
   "outputs": [
    {
     "ename": "TypeError",
     "evalue": "'int' object does not support item assignment",
     "output_type": "error",
     "traceback": [
      "\u001b[31m---------------------------------------------------------------------------\u001b[39m",
      "\u001b[31mTypeError\u001b[39m                                 Traceback (most recent call last)",
      "\u001b[36mCell\u001b[39m\u001b[36m \u001b[39m\u001b[32mIn[12]\u001b[39m\u001b[32m, line 1\u001b[39m\n\u001b[32m----> \u001b[39m\u001b[32m1\u001b[39m \u001b[43ma\u001b[49m\u001b[43m[\u001b[49m\u001b[33;43m'\u001b[39;49m\u001b[33;43mk3\u001b[39;49m\u001b[33;43m'\u001b[39;49m\u001b[43m]\u001b[49m = \u001b[33m'\u001b[39m\u001b[33mval3\u001b[39m\u001b[33m'\u001b[39m\n",
      "\u001b[31mTypeError\u001b[39m: 'int' object does not support item assignment"
     ]
    }
   ],
   "source": [
    "a['k3'] = 'val3'"
   ]
  },
  {
   "cell_type": "code",
   "execution_count": null,
   "id": "4dd7e9b8",
   "metadata": {},
   "outputs": [
    {
     "data": {
      "text/plain": [
       "{'k1': 'val1', 'k2': 'val2', 'k3': 'val3'}"
      ]
     },
     "execution_count": 28,
     "metadata": {},
     "output_type": "execute_result"
    }
   ],
   "source": [
    "a"
   ]
  },
  {
   "cell_type": "code",
   "execution_count": null,
   "id": "0f70218e",
   "metadata": {},
   "outputs": [],
   "source": [
    "def traverser_dict(a):\n",
    "    for key in a:\n",
    "        print(key, a[key])"
   ]
  },
  {
   "cell_type": "code",
   "execution_count": null,
   "id": "cf1e3ff1",
   "metadata": {},
   "outputs": [
    {
     "name": "stdout",
     "output_type": "stream",
     "text": [
      "k1 val1\n",
      "k2 val2\n",
      "k3 val3\n"
     ]
    }
   ],
   "source": [
    "traverser_dict(a)"
   ]
  },
  {
   "cell_type": "code",
   "execution_count": null,
   "id": "b25432bf",
   "metadata": {},
   "outputs": [],
   "source": [
    "def find_value(a, v):\n",
    "    for key in a:\n",
    "        if v[key] == v:\n",
    "            print(f'value found {key} {v['key']}')\n",
    "    "
   ]
  },
  {
   "cell_type": "code",
   "execution_count": null,
   "id": "c66af5a5",
   "metadata": {},
   "outputs": [],
   "source": [
    "del a['k1']"
   ]
  },
  {
   "cell_type": "code",
   "execution_count": null,
   "id": "d03939c8",
   "metadata": {},
   "outputs": [
    {
     "data": {
      "text/plain": [
       "{'k2': 'val2', 'k3': 'val3'}"
      ]
     },
     "execution_count": 41,
     "metadata": {},
     "output_type": "execute_result"
    }
   ],
   "source": [
    "a"
   ]
  },
  {
   "cell_type": "code",
   "execution_count": 14,
   "id": "40beeac0",
   "metadata": {},
   "outputs": [
    {
     "data": {
      "text/plain": [
       "1"
      ]
     },
     "execution_count": 14,
     "metadata": {},
     "output_type": "execute_result"
    }
   ],
   "source": [
    "a"
   ]
  },
  {
   "cell_type": "code",
   "execution_count": 16,
   "id": "2c38536f",
   "metadata": {},
   "outputs": [],
   "source": [
    "b = dict(one='uno', two='dos', three='tres')"
   ]
  },
  {
   "cell_type": "code",
   "execution_count": 17,
   "id": "0f4100b8",
   "metadata": {},
   "outputs": [],
   "source": [
    "a.clear()"
   ]
  },
  {
   "cell_type": "code",
   "execution_count": 18,
   "id": "0e7be89e",
   "metadata": {},
   "outputs": [
    {
     "data": {
      "text/plain": [
       "{}"
      ]
     },
     "execution_count": 18,
     "metadata": {},
     "output_type": "execute_result"
    }
   ],
   "source": [
    "a"
   ]
  },
  {
   "cell_type": "code",
   "execution_count": 19,
   "id": "ca0a62c8",
   "metadata": {},
   "outputs": [],
   "source": [
    "c = b.copy()"
   ]
  },
  {
   "cell_type": "code",
   "execution_count": 20,
   "id": "cc47c837",
   "metadata": {},
   "outputs": [
    {
     "data": {
      "text/plain": [
       "{'one': 'uno', 'two': 'dos', 'three': 'tres'}"
      ]
     },
     "execution_count": 20,
     "metadata": {},
     "output_type": "execute_result"
    }
   ],
   "source": [
    "c"
   ]
  },
  {
   "cell_type": "code",
   "execution_count": 23,
   "id": "8e57ea89",
   "metadata": {},
   "outputs": [],
   "source": [
    "d = c.fromkeys(['one'])"
   ]
  },
  {
   "cell_type": "code",
   "execution_count": 24,
   "id": "be8918dc",
   "metadata": {},
   "outputs": [
    {
     "data": {
      "text/plain": [
       "{'one': None}"
      ]
     },
     "execution_count": 24,
     "metadata": {},
     "output_type": "execute_result"
    }
   ],
   "source": [
    "d"
   ]
  },
  {
   "cell_type": "code",
   "execution_count": 25,
   "id": "f06f01f7",
   "metadata": {},
   "outputs": [],
   "source": [
    "new_dict = {}.fromkeys([1,2,3], 0)"
   ]
  },
  {
   "cell_type": "code",
   "execution_count": 31,
   "id": "1132e33c",
   "metadata": {},
   "outputs": [
    {
     "data": {
      "text/plain": [
       "'None'"
      ]
     },
     "execution_count": 31,
     "metadata": {},
     "output_type": "execute_result"
    }
   ],
   "source": [
    "b.get('twos', 'None')"
   ]
  },
  {
   "cell_type": "code",
   "execution_count": 32,
   "id": "fa062fb8",
   "metadata": {},
   "outputs": [
    {
     "data": {
      "text/plain": [
       "dict_items([('one', 'uno'), ('two', 'dos'), ('three', 'tres')])"
      ]
     },
     "execution_count": 32,
     "metadata": {},
     "output_type": "execute_result"
    }
   ],
   "source": [
    "b.items()"
   ]
  },
  {
   "cell_type": "code",
   "execution_count": 33,
   "id": "4699e4b0",
   "metadata": {},
   "outputs": [
    {
     "data": {
      "text/plain": [
       "dict_keys(['one', 'two', 'three'])"
      ]
     },
     "execution_count": 33,
     "metadata": {},
     "output_type": "execute_result"
    }
   ],
   "source": [
    "b.keys()"
   ]
  },
  {
   "cell_type": "code",
   "execution_count": 34,
   "id": "ef1eced6",
   "metadata": {},
   "outputs": [
    {
     "data": {
      "text/plain": [
       "dict_values(['uno', 'dos', 'tres'])"
      ]
     },
     "execution_count": 34,
     "metadata": {},
     "output_type": "execute_result"
    }
   ],
   "source": [
    "b.values()"
   ]
  },
  {
   "cell_type": "code",
   "execution_count": 35,
   "id": "3ab89c70",
   "metadata": {},
   "outputs": [
    {
     "data": {
      "text/plain": [
       "('three', 'tres')"
      ]
     },
     "execution_count": 35,
     "metadata": {},
     "output_type": "execute_result"
    }
   ],
   "source": [
    "b.popitem()"
   ]
  },
  {
   "cell_type": "code",
   "execution_count": 36,
   "id": "b1e291d4",
   "metadata": {},
   "outputs": [
    {
     "data": {
      "text/plain": [
       "{'one': 'uno', 'two': 'dos'}"
      ]
     },
     "execution_count": 36,
     "metadata": {},
     "output_type": "execute_result"
    }
   ],
   "source": [
    "b"
   ]
  },
  {
   "cell_type": "code",
   "execution_count": 37,
   "id": "a93e78aa",
   "metadata": {},
   "outputs": [
    {
     "data": {
      "text/plain": [
       "'tres'"
      ]
     },
     "execution_count": 37,
     "metadata": {},
     "output_type": "execute_result"
    }
   ],
   "source": [
    "b.setdefault('three', 'tres')"
   ]
  },
  {
   "cell_type": "code",
   "execution_count": 38,
   "id": "44089b3a",
   "metadata": {},
   "outputs": [
    {
     "data": {
      "text/plain": [
       "{'one': 'uno', 'two': 'dos', 'three': 'tres'}"
      ]
     },
     "execution_count": 38,
     "metadata": {},
     "output_type": "execute_result"
    }
   ],
   "source": [
    "b"
   ]
  },
  {
   "cell_type": "code",
   "execution_count": 40,
   "id": "7144a735",
   "metadata": {},
   "outputs": [
    {
     "data": {
      "text/plain": [
       "'fou'"
      ]
     },
     "execution_count": 40,
     "metadata": {},
     "output_type": "execute_result"
    }
   ],
   "source": [
    "\n",
    "b.pop('four', 'fou')"
   ]
  },
  {
   "cell_type": "code",
   "execution_count": 41,
   "id": "1402ee7c",
   "metadata": {},
   "outputs": [
    {
     "data": {
      "text/plain": [
       "{'one': 'uno', 'two': 'dos', 'three': 'tres'}"
      ]
     },
     "execution_count": 41,
     "metadata": {},
     "output_type": "execute_result"
    }
   ],
   "source": [
    "b"
   ]
  },
  {
   "cell_type": "code",
   "execution_count": 43,
   "id": "16bbdb5f",
   "metadata": {},
   "outputs": [],
   "source": [
    "new_dict = {'a1':1, 'b':2, 'c': 3}"
   ]
  },
  {
   "cell_type": "code",
   "execution_count": 45,
   "id": "86544347",
   "metadata": {},
   "outputs": [],
   "source": [
    "b.update(new_dict)"
   ]
  },
  {
   "cell_type": "code",
   "execution_count": 46,
   "id": "db64e582",
   "metadata": {},
   "outputs": [
    {
     "data": {
      "text/plain": [
       "{'one': 'uno', 'two': 'dos', 'three': 'tres', 'a1': 1, 'b': 2, 'c': 3}"
      ]
     },
     "execution_count": 46,
     "metadata": {},
     "output_type": "execute_result"
    }
   ],
   "source": [
    "b"
   ]
  },
  {
   "cell_type": "code",
   "execution_count": 49,
   "id": "62852332",
   "metadata": {},
   "outputs": [
    {
     "data": {
      "text/plain": [
       "True"
      ]
     },
     "execution_count": 49,
     "metadata": {},
     "output_type": "execute_result"
    }
   ],
   "source": [
    "'dos' in b.values()"
   ]
  },
  {
   "cell_type": "code",
   "execution_count": 50,
   "id": "8e9db864",
   "metadata": {},
   "outputs": [
    {
     "data": {
      "text/plain": [
       "True"
      ]
     },
     "execution_count": 50,
     "metadata": {},
     "output_type": "execute_result"
    }
   ],
   "source": [
    "all(b)"
   ]
  },
  {
   "cell_type": "code",
   "execution_count": 51,
   "id": "e2bc2ec6",
   "metadata": {},
   "outputs": [
    {
     "data": {
      "text/plain": [
       "'uno'"
      ]
     },
     "execution_count": 51,
     "metadata": {},
     "output_type": "execute_result"
    }
   ],
   "source": [
    "b.setdefault('we', 'uno')"
   ]
  },
  {
   "cell_type": "code",
   "execution_count": 52,
   "id": "8f60b357",
   "metadata": {},
   "outputs": [
    {
     "data": {
      "text/plain": [
       "{'one': 'uno',\n",
       " 'two': 'dos',\n",
       " 'three': 'tres',\n",
       " 'a1': 1,\n",
       " 'b': 2,\n",
       " 'c': 3,\n",
       " 'we': 'uno'}"
      ]
     },
     "execution_count": 52,
     "metadata": {},
     "output_type": "execute_result"
    }
   ],
   "source": [
    "b"
   ]
  },
  {
   "cell_type": "code",
   "execution_count": 53,
   "id": "ddfffe27",
   "metadata": {},
   "outputs": [],
   "source": [
    "new_dict.clear()"
   ]
  },
  {
   "cell_type": "code",
   "execution_count": 56,
   "id": "49763d87",
   "metadata": {},
   "outputs": [],
   "source": [
    "new_dict = {key:value for (key,value) in b.items() if value == 'uno'}"
   ]
  },
  {
   "cell_type": "code",
   "execution_count": 59,
   "id": "00e4a6d1",
   "metadata": {},
   "outputs": [],
   "source": [
    "import random"
   ]
  },
  {
   "cell_type": "code",
   "execution_count": 58,
   "id": "e40416f3",
   "metadata": {},
   "outputs": [],
   "source": [
    "city_name = ['Paris', 'London', 'Rome', 'Berlin', 'Madrid']"
   ]
  },
  {
   "cell_type": "code",
   "execution_count": 62,
   "id": "81252bb2",
   "metadata": {},
   "outputs": [],
   "source": [
    "city_temps = { city:random.randint(20,30) for city in city_name}"
   ]
  },
  {
   "cell_type": "code",
   "execution_count": 63,
   "id": "aad49380",
   "metadata": {},
   "outputs": [],
   "source": [
    "cities_with_high_temp = {key:value  for (key,value) in city_temps.items() if value >= 20}"
   ]
  },
  {
   "cell_type": "code",
   "execution_count": 64,
   "id": "f0fc4d70",
   "metadata": {},
   "outputs": [
    {
     "data": {
      "text/plain": [
       "{'Paris': 26, 'London': 25, 'Rome': 22, 'Berlin': 22, 'Madrid': 20}"
      ]
     },
     "execution_count": 64,
     "metadata": {},
     "output_type": "execute_result"
    }
   ],
   "source": [
    "cities_with_high_temp"
   ]
  },
  {
   "cell_type": "code",
   "execution_count": 65,
   "id": "728f3b40",
   "metadata": {},
   "outputs": [],
   "source": [
    "words = ['apple', 'orange', 'banana', 'apple', 'orange', 'apple'] "
   ]
  },
  {
   "cell_type": "code",
   "execution_count": 68,
   "id": "add7550a",
   "metadata": {},
   "outputs": [],
   "source": [
    "def word_counter(words):\n",
    "    count = {}\n",
    "    for word in words:\n",
    "        if word not in count:\n",
    "            count[word] = 1\n",
    "        else:\n",
    "            count[word] += 1\n",
    "    return count"
   ]
  },
  {
   "cell_type": "code",
   "execution_count": 69,
   "id": "f51dddce",
   "metadata": {},
   "outputs": [
    {
     "data": {
      "text/plain": [
       "{'apple': 3, 'orange': 2, 'banana': 1}"
      ]
     },
     "execution_count": 69,
     "metadata": {},
     "output_type": "execute_result"
    }
   ],
   "source": [
    "word_counter(words)"
   ]
  },
  {
   "cell_type": "code",
   "execution_count": 71,
   "id": "d837db90",
   "metadata": {},
   "outputs": [],
   "source": [
    "dict1 = {'a': 1, 'b': 2, 'c': 3}\n",
    "dict2 = {'b': 3, 'c': 4, 'd': 5}"
   ]
  },
  {
   "cell_type": "code",
   "execution_count": null,
   "id": "0f271b17",
   "metadata": {},
   "outputs": [],
   "source": [
    "def merge_dict(dic1, dict2):\n",
    "    for (key, value) in dict2.items():\n",
    "        dic1[key] = dic1.get(key, 0) + value\n",
    "            \n",
    "    return dic1\n",
    "    "
   ]
  },
  {
   "cell_type": "code",
   "execution_count": 82,
   "id": "44528579",
   "metadata": {},
   "outputs": [],
   "source": [
    "my_dict = {'a': 5, 'b': 9, 'c': 2, 'e':45}"
   ]
  },
  {
   "cell_type": "code",
   "execution_count": 83,
   "id": "280349b7",
   "metadata": {},
   "outputs": [],
   "source": [
    "def max_value_key(my_dict):\n",
    "    max_val = -9\n",
    "    max_key = \"\"\n",
    "    for (key,val) in my_dict.items():\n",
    "        if max_val == -9:\n",
    "            max_val = val\n",
    "        elif max_val < val:\n",
    "            max_val = val\n",
    "            max_key = key\n",
    "    return max_key\n",
    "            \n",
    "            "
   ]
  },
  {
   "cell_type": "code",
   "execution_count": 84,
   "id": "3d02f5c8",
   "metadata": {},
   "outputs": [
    {
     "data": {
      "text/plain": [
       "'e'"
      ]
     },
     "execution_count": 84,
     "metadata": {},
     "output_type": "execute_result"
    }
   ],
   "source": [
    "max_value_key(my_dict)"
   ]
  },
  {
   "cell_type": "code",
   "execution_count": 85,
   "id": "3412ca45",
   "metadata": {},
   "outputs": [
    {
     "data": {
      "text/plain": [
       "'e'"
      ]
     },
     "execution_count": 85,
     "metadata": {},
     "output_type": "execute_result"
    }
   ],
   "source": [
    "max(my_dict, key=my_dict.get)"
   ]
  },
  {
   "cell_type": "code",
   "execution_count": 87,
   "id": "a0b48303",
   "metadata": {},
   "outputs": [
    {
     "ename": "TypeError",
     "evalue": "get expected at least 1 argument, got 0",
     "output_type": "error",
     "traceback": [
      "\u001b[31m---------------------------------------------------------------------------\u001b[39m",
      "\u001b[31mTypeError\u001b[39m                                 Traceback (most recent call last)",
      "\u001b[36mCell\u001b[39m\u001b[36m \u001b[39m\u001b[32mIn[87]\u001b[39m\u001b[32m, line 1\u001b[39m\n\u001b[32m----> \u001b[39m\u001b[32m1\u001b[39m \u001b[43mmy_dict\u001b[49m\u001b[43m.\u001b[49m\u001b[43mget\u001b[49m\u001b[43m(\u001b[49m\u001b[43m)\u001b[49m\n",
      "\u001b[31mTypeError\u001b[39m: get expected at least 1 argument, got 0"
     ]
    }
   ],
   "source": [
    "my_dict.get()"
   ]
  },
  {
   "cell_type": "code",
   "execution_count": 88,
   "id": "16deb8b6",
   "metadata": {},
   "outputs": [],
   "source": [
    "my_dict = {'a': 1, 'b': 2, 'c': 3}"
   ]
  },
  {
   "cell_type": "code",
   "execution_count": 89,
   "id": "e136169f",
   "metadata": {},
   "outputs": [],
   "source": [
    "def reversed_dict(my_dict):\n",
    "    return {value:key for (key,value) in my_dict.items()}"
   ]
  },
  {
   "cell_type": "code",
   "execution_count": 90,
   "id": "ab2cb022",
   "metadata": {},
   "outputs": [],
   "source": [
    "list1 = [1, 2, 3, 2, 1]\n",
    "list2 = [3, 1, 2, 1, 3]"
   ]
  },
  {
   "cell_type": "code",
   "execution_count": 95,
   "id": "abf54b27",
   "metadata": {},
   "outputs": [
    {
     "ename": "TypeError",
     "evalue": "'bool' object is not iterable",
     "output_type": "error",
     "traceback": [
      "\u001b[31m---------------------------------------------------------------------------\u001b[39m",
      "\u001b[31mTypeError\u001b[39m                                 Traceback (most recent call last)",
      "\u001b[36mCell\u001b[39m\u001b[36m \u001b[39m\u001b[32mIn[95]\u001b[39m\u001b[32m, line 1\u001b[39m\n\u001b[32m----> \u001b[39m\u001b[32m1\u001b[39m \u001b[38;5;28;43mall\u001b[39;49m\u001b[43m(\u001b[49m\u001b[43mlist1\u001b[49m\u001b[43m==\u001b[49m\u001b[43mlist2\u001b[49m\u001b[43m)\u001b[49m\n",
      "\u001b[31mTypeError\u001b[39m: 'bool' object is not iterable"
     ]
    }
   ],
   "source": [
    "all(list1==list2)"
   ]
  },
  {
   "cell_type": "code",
   "execution_count": null,
   "id": "23eafa18",
   "metadata": {},
   "outputs": [],
   "source": [
    "def check_frequency(list1, list2):\n",
    "    dc = {}\n",
    "    for i in range(len(list1)):\n",
    "        dc[list1[i]] = list2[i]\n",
    "    return True if len(dc) == 0 else False"
   ]
  },
  {
   "cell_type": "code",
   "execution_count": 101,
   "id": "9b08ec49",
   "metadata": {},
   "outputs": [
    {
     "name": "stdout",
     "output_type": "stream",
     "text": [
      "{1: 3, 2: 1, 3: 2}\n"
     ]
    }
   ],
   "source": [
    "check_frequency(list1, list2)"
   ]
  },
  {
   "cell_type": "code",
   "execution_count": null,
   "id": "9beb5550",
   "metadata": {},
   "outputs": [],
   "source": []
  }
 ],
 "metadata": {
  "kernelspec": {
   "display_name": ".venv",
   "language": "python",
   "name": "python3"
  },
  "language_info": {
   "codemirror_mode": {
    "name": "ipython",
    "version": 3
   },
   "file_extension": ".py",
   "mimetype": "text/x-python",
   "name": "python",
   "nbconvert_exporter": "python",
   "pygments_lexer": "ipython3",
   "version": "3.12.2"
  }
 },
 "nbformat": 4,
 "nbformat_minor": 5
}
