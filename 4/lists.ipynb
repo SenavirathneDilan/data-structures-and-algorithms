{
 "cells": [
  {
   "cell_type": "code",
   "execution_count": null,
   "id": "21e02179",
   "metadata": {},
   "outputs": [],
   "source": [
    "i_lis =  [1,2,3,4]\n",
    "s_lis = ['milk', 'egg', 'butter']"
   ]
  },
  {
   "cell_type": "code",
   "execution_count": null,
   "id": "92e1636b",
   "metadata": {},
   "outputs": [
    {
     "name": "stdout",
     "output_type": "stream",
     "text": [
      "egg\n"
     ]
    }
   ],
   "source": [
    "print(s_lis[1])"
   ]
  },
  {
   "cell_type": "code",
   "execution_count": null,
   "id": "bb43d081",
   "metadata": {},
   "outputs": [],
   "source": [
    "def travers(data):\n",
    "    for i in data:\n",
    "        print(i)"
   ]
  },
  {
   "cell_type": "code",
   "execution_count": null,
   "id": "86969f2f",
   "metadata": {},
   "outputs": [
    {
     "name": "stdout",
     "output_type": "stream",
     "text": [
      "milk\n",
      "egg\n",
      "butter\n"
     ]
    }
   ],
   "source": [
    "travers(s_lis)"
   ]
  },
  {
   "cell_type": "code",
   "execution_count": null,
   "id": "4fbbd0c8",
   "metadata": {},
   "outputs": [
    {
     "ename": "IndexError",
     "evalue": "list index out of range",
     "output_type": "error",
     "traceback": [
      "\u001b[31m---------------------------------------------------------------------------\u001b[39m",
      "\u001b[31mIndexError\u001b[39m                                Traceback (most recent call last)",
      "\u001b[36mCell\u001b[39m\u001b[36m \u001b[39m\u001b[32mIn[19]\u001b[39m\u001b[32m, line 1\u001b[39m\n\u001b[32m----> \u001b[39m\u001b[32m1\u001b[39m \u001b[43ms_lis\u001b[49m\u001b[43m[\u001b[49m\u001b[43m-\u001b[49m\u001b[32;43m4\u001b[39;49m\u001b[43m]\u001b[49m\n",
      "\u001b[31mIndexError\u001b[39m: list index out of range"
     ]
    }
   ],
   "source": []
  },
  {
   "cell_type": "code",
   "execution_count": null,
   "id": "b6a9ae28",
   "metadata": {},
   "outputs": [],
   "source": [
    "for i in range(len(s_lis)):\n",
    "    s_lis[i] = s_lis[i]+\"test\""
   ]
  },
  {
   "cell_type": "code",
   "execution_count": null,
   "id": "8dc34150",
   "metadata": {},
   "outputs": [
    {
     "data": {
      "text/plain": [
       "['milktest', 'eggtest', 'buttertest']"
      ]
     },
     "execution_count": 21,
     "metadata": {},
     "output_type": "execute_result"
    }
   ],
   "source": [
    "s_lis"
   ]
  },
  {
   "cell_type": "code",
   "execution_count": null,
   "id": "cb75bb3e",
   "metadata": {},
   "outputs": [],
   "source": [
    "my_list = list(range(5))"
   ]
  },
  {
   "cell_type": "code",
   "execution_count": null,
   "id": "27cc55b8",
   "metadata": {},
   "outputs": [
    {
     "data": {
      "text/plain": [
       "[0, 1, 2, 3, 4]"
      ]
     },
     "execution_count": 38,
     "metadata": {},
     "output_type": "execute_result"
    }
   ],
   "source": [
    "my_list"
   ]
  },
  {
   "cell_type": "code",
   "execution_count": null,
   "id": "6d45ccd6",
   "metadata": {},
   "outputs": [],
   "source": [
    "my_list[2]=23"
   ]
  },
  {
   "cell_type": "code",
   "execution_count": null,
   "id": "d3d0b8e6",
   "metadata": {},
   "outputs": [],
   "source": [
    "my_list.append(2345)"
   ]
  },
  {
   "cell_type": "code",
   "execution_count": null,
   "id": "42e715b2",
   "metadata": {},
   "outputs": [
    {
     "data": {
      "text/plain": [
       "[0, 1, 23, 3, 4, 2345]"
      ]
     },
     "execution_count": 41,
     "metadata": {},
     "output_type": "execute_result"
    }
   ],
   "source": [
    "my_list"
   ]
  },
  {
   "cell_type": "code",
   "execution_count": null,
   "id": "cc24ca21",
   "metadata": {},
   "outputs": [],
   "source": [
    "new_list= list(range(45,36,-3))"
   ]
  },
  {
   "cell_type": "code",
   "execution_count": null,
   "id": "754cf0fd",
   "metadata": {},
   "outputs": [],
   "source": [
    "my_list.extend(new_list)"
   ]
  },
  {
   "cell_type": "code",
   "execution_count": null,
   "id": "1c746cd3",
   "metadata": {},
   "outputs": [
    {
     "data": {
      "text/plain": [
       "[0, 1, 23, 3, 4, 2345, 45, 42, 39]"
      ]
     },
     "execution_count": 44,
     "metadata": {},
     "output_type": "execute_result"
    }
   ],
   "source": [
    "my_list"
   ]
  },
  {
   "cell_type": "code",
   "execution_count": null,
   "id": "2a30e3d1",
   "metadata": {},
   "outputs": [],
   "source": [
    "my_list  = ['a', 'b', 'c', 'd', 'e']\n"
   ]
  },
  {
   "cell_type": "code",
   "execution_count": null,
   "id": "11b1eaea",
   "metadata": {},
   "outputs": [
    {
     "data": {
      "text/plain": [
       "['a', 'b']"
      ]
     },
     "execution_count": 46,
     "metadata": {},
     "output_type": "execute_result"
    }
   ],
   "source": [
    "my_list[:2]"
   ]
  },
  {
   "cell_type": "code",
   "execution_count": null,
   "id": "7c807708",
   "metadata": {},
   "outputs": [
    {
     "data": {
      "text/plain": [
       "'d'"
      ]
     },
     "execution_count": 48,
     "metadata": {},
     "output_type": "execute_result"
    }
   ],
   "source": [
    "my_list.pop(3)"
   ]
  },
  {
   "cell_type": "code",
   "execution_count": null,
   "id": "75d21189",
   "metadata": {},
   "outputs": [],
   "source": [
    "del my_list[2]"
   ]
  },
  {
   "cell_type": "code",
   "execution_count": null,
   "id": "812e6547",
   "metadata": {},
   "outputs": [
    {
     "data": {
      "text/plain": [
       "['a', 'b']"
      ]
     },
     "execution_count": 52,
     "metadata": {},
     "output_type": "execute_result"
    }
   ],
   "source": [
    "my_list"
   ]
  },
  {
   "cell_type": "code",
   "execution_count": null,
   "id": "5a598c8f",
   "metadata": {},
   "outputs": [],
   "source": [
    "my_list.append('d')"
   ]
  },
  {
   "cell_type": "code",
   "execution_count": null,
   "id": "d7423bbd",
   "metadata": {},
   "outputs": [],
   "source": [
    "my_list.remove('a')"
   ]
  },
  {
   "cell_type": "code",
   "execution_count": null,
   "id": "e19e0dd6",
   "metadata": {},
   "outputs": [
    {
     "data": {
      "text/plain": [
       "['b', 'd', 'd']"
      ]
     },
     "execution_count": 56,
     "metadata": {},
     "output_type": "execute_result"
    }
   ],
   "source": [
    "my_list"
   ]
  },
  {
   "cell_type": "code",
   "execution_count": null,
   "id": "26e56561",
   "metadata": {},
   "outputs": [],
   "source": [
    "my_list = list(range(10,100,10))"
   ]
  },
  {
   "cell_type": "code",
   "execution_count": null,
   "id": "105a47e2",
   "metadata": {},
   "outputs": [],
   "source": [
    "def check_value(list, target):\n",
    "    if target in list:\n",
    "        print(f\"{target} found on the list\")\n",
    "    else:\n",
    "        print(f\"{target} not on the list\")"
   ]
  },
  {
   "cell_type": "code",
   "execution_count": null,
   "id": "c8ae7f98",
   "metadata": {},
   "outputs": [
    {
     "name": "stdout",
     "output_type": "stream",
     "text": [
      "20 found on the list\n"
     ]
    }
   ],
   "source": [
    "check_value(my_list, 20)"
   ]
  },
  {
   "cell_type": "code",
   "execution_count": null,
   "id": "b6b43874",
   "metadata": {},
   "outputs": [],
   "source": [
    "def linear_search(list, target):\n",
    "    for i, value in enumerate(list):\n",
    "        if value == target:\n",
    "            return i\n",
    "    return -1"
   ]
  },
  {
   "cell_type": "code",
   "execution_count": null,
   "id": "754a22ab",
   "metadata": {},
   "outputs": [],
   "source": [
    "a =[1,2,3,4]\n",
    "b =[5,6,7,8]"
   ]
  },
  {
   "cell_type": "code",
   "execution_count": null,
   "id": "6d3bb846",
   "metadata": {},
   "outputs": [
    {
     "data": {
      "text/plain": [
       "[1, 2, 3, 4, 5, 6, 7, 8]"
      ]
     },
     "execution_count": 3,
     "metadata": {},
     "output_type": "execute_result"
    }
   ],
   "source": [
    "a+b"
   ]
  },
  {
   "cell_type": "code",
   "execution_count": null,
   "id": "466490fb",
   "metadata": {},
   "outputs": [
    {
     "data": {
      "text/plain": [
       "[1, 2, 3, 4, 1, 2, 3, 4, 1, 2, 3, 4, 1, 2, 3, 4]"
      ]
     },
     "execution_count": 4,
     "metadata": {},
     "output_type": "execute_result"
    }
   ],
   "source": [
    "a*4"
   ]
  },
  {
   "cell_type": "code",
   "execution_count": null,
   "id": "a3e9505a",
   "metadata": {},
   "outputs": [
    {
     "data": {
      "text/plain": [
       "[4, 8, 12, 16]"
      ]
     },
     "execution_count": 6,
     "metadata": {},
     "output_type": "execute_result"
    }
   ],
   "source": [
    "list(map((lambda a: a*4),a))"
   ]
  },
  {
   "cell_type": "code",
   "execution_count": null,
   "id": "9c72e503",
   "metadata": {},
   "outputs": [
    {
     "data": {
      "text/plain": [
       "[3, 4]"
      ]
     },
     "execution_count": 8,
     "metadata": {},
     "output_type": "execute_result"
    }
   ],
   "source": [
    "list(filter((lambda a: a*4 >10), a))"
   ]
  },
  {
   "cell_type": "code",
   "execution_count": null,
   "id": "f51bf1db",
   "metadata": {},
   "outputs": [
    {
     "data": {
      "text/plain": [
       "4"
      ]
     },
     "execution_count": 9,
     "metadata": {},
     "output_type": "execute_result"
    }
   ],
   "source": [
    "len(a)"
   ]
  },
  {
   "cell_type": "code",
   "execution_count": null,
   "id": "f1dcc99a",
   "metadata": {},
   "outputs": [
    {
     "data": {
      "text/plain": [
       "4"
      ]
     },
     "execution_count": 10,
     "metadata": {},
     "output_type": "execute_result"
    }
   ],
   "source": [
    "max(a)"
   ]
  },
  {
   "cell_type": "code",
   "execution_count": null,
   "id": "a97a29a8",
   "metadata": {},
   "outputs": [
    {
     "data": {
      "text/plain": [
       "1"
      ]
     },
     "execution_count": 11,
     "metadata": {},
     "output_type": "execute_result"
    }
   ],
   "source": [
    "min(a)"
   ]
  },
  {
   "cell_type": "code",
   "execution_count": null,
   "id": "d5f8b704",
   "metadata": {},
   "outputs": [
    {
     "data": {
      "text/plain": [
       "10"
      ]
     },
     "execution_count": 12,
     "metadata": {},
     "output_type": "execute_result"
    }
   ],
   "source": [
    "sum(a)"
   ]
  },
  {
   "cell_type": "code",
   "execution_count": null,
   "id": "2e4e1bf2",
   "metadata": {},
   "outputs": [],
   "source": [
    "avg = (min(a)+max(a))/len(a)"
   ]
  },
  {
   "cell_type": "code",
   "execution_count": null,
   "id": "314491ee",
   "metadata": {},
   "outputs": [
    {
     "data": {
      "text/plain": [
       "1.25"
      ]
     },
     "execution_count": 14,
     "metadata": {},
     "output_type": "execute_result"
    }
   ],
   "source": [
    "avg"
   ]
  },
  {
   "cell_type": "code",
   "execution_count": null,
   "id": "84e313de",
   "metadata": {},
   "outputs": [
    {
     "data": {
      "text/plain": [
       "2.5"
      ]
     },
     "execution_count": 16,
     "metadata": {},
     "output_type": "execute_result"
    }
   ],
   "source": [
    "sum(a)/len(a)"
   ]
  },
  {
   "cell_type": "code",
   "execution_count": null,
   "id": "11d2a63b",
   "metadata": {},
   "outputs": [
    {
     "name": "stdout",
     "output_type": "stream",
     "text": [
      "10.0\n"
     ]
    }
   ],
   "source": [
    "total = 0\n",
    "count = 0\n",
    "while True:\n",
    "    num = input(\"Enter number: \")\n",
    "    if  num == \"done\": break\n",
    "    total += float(num)\n",
    "    count += 1\n",
    "    \n",
    "avg = total/count    \n",
    "print(avg)"
   ]
  },
  {
   "cell_type": "code",
   "execution_count": null,
   "id": "824eb49a",
   "metadata": {},
   "outputs": [],
   "source": [
    "a = \"spam-spam\"\n",
    "b = list(a)"
   ]
  },
  {
   "cell_type": "code",
   "execution_count": null,
   "id": "e370a541",
   "metadata": {},
   "outputs": [
    {
     "data": {
      "text/plain": [
       "['spam', 'spam']"
      ]
     },
     "execution_count": 30,
     "metadata": {},
     "output_type": "execute_result"
    }
   ],
   "source": [
    "delemeter = '-'\n",
    "a.split('-')"
   ]
  },
  {
   "cell_type": "code",
   "execution_count": null,
   "id": "0b4c433d",
   "metadata": {},
   "outputs": [
    {
     "data": {
      "text/plain": [
       "'s-p-a-m---s-p-a-m'"
      ]
     },
     "execution_count": 31,
     "metadata": {},
     "output_type": "execute_result"
    }
   ],
   "source": [
    "delemeter.join(b)"
   ]
  },
  {
   "cell_type": "code",
   "execution_count": null,
   "id": "9cf0b6d9",
   "metadata": {},
   "outputs": [],
   "source": [
    "a = [2,5,74.,5,7]"
   ]
  },
  {
   "cell_type": "code",
   "execution_count": null,
   "id": "3bad22bc",
   "metadata": {},
   "outputs": [],
   "source": [
    "a.remove(74)"
   ]
  },
  {
   "cell_type": "code",
   "execution_count": null,
   "id": "93aa06d0",
   "metadata": {},
   "outputs": [],
   "source": [
    "a = a + [10]"
   ]
  },
  {
   "cell_type": "code",
   "execution_count": null,
   "id": "77d77c09",
   "metadata": {},
   "outputs": [
    {
     "data": {
      "text/plain": [
       "[2, 5, 5, 7, 10, [45]]"
      ]
     },
     "execution_count": 46,
     "metadata": {},
     "output_type": "execute_result"
    }
   ],
   "source": [
    "a"
   ]
  },
  {
   "cell_type": "code",
   "execution_count": null,
   "id": "b34fc770",
   "metadata": {},
   "outputs": [],
   "source": [
    "a.append([45])"
   ]
  },
  {
   "cell_type": "code",
   "execution_count": null,
   "id": "8a7c3f29",
   "metadata": {},
   "outputs": [
    {
     "data": {
      "text/plain": [
       "[2, 5, 5, 7, 10, [45]]"
      ]
     },
     "execution_count": 45,
     "metadata": {},
     "output_type": "execute_result"
    }
   ],
   "source": [
    "a"
   ]
  },
  {
   "cell_type": "code",
   "execution_count": null,
   "id": "959c881d",
   "metadata": {},
   "outputs": [],
   "source": [
    "ori = a[:]"
   ]
  },
  {
   "cell_type": "code",
   "execution_count": null,
   "id": "bd003745",
   "metadata": {},
   "outputs": [],
   "source": [
    "\n",
    "ori.sort()"
   ]
  },
  {
   "cell_type": "code",
   "execution_count": null,
   "id": "5e9018a3",
   "metadata": {},
   "outputs": [
    {
     "data": {
      "text/plain": [
       "[2, 5, 5, 7, 74.0]"
      ]
     },
     "execution_count": 58,
     "metadata": {},
     "output_type": "execute_result"
    }
   ],
   "source": [
    "ori"
   ]
  },
  {
   "cell_type": "code",
   "execution_count": null,
   "id": "874cec68",
   "metadata": {},
   "outputs": [
    {
     "data": {
      "text/plain": [
       "[2, 5, 74.0, 5, 7]"
      ]
     },
     "execution_count": 59,
     "metadata": {},
     "output_type": "execute_result"
    }
   ],
   "source": [
    "a"
   ]
  },
  {
   "cell_type": "code",
   "execution_count": null,
   "id": "e7518f5b",
   "metadata": {},
   "outputs": [],
   "source": [
    "import numpy as np"
   ]
  },
  {
   "cell_type": "code",
   "execution_count": null,
   "id": "cc993bd9",
   "metadata": {},
   "outputs": [],
   "source": [
    "arr1 = np.array([1,2,3,4,5])\n",
    "alist = [1,2,3,4,5]"
   ]
  },
  {
   "cell_type": "code",
   "execution_count": null,
   "id": "d97de97c",
   "metadata": {},
   "outputs": [
    {
     "data": {
      "text/plain": [
       "array([0.5, 1. , 1.5, 2. , 2.5])"
      ]
     },
     "execution_count": 62,
     "metadata": {},
     "output_type": "execute_result"
    }
   ],
   "source": [
    "\n",
    "arr1/2"
   ]
  },
  {
   "cell_type": "code",
   "execution_count": null,
   "id": "40259af9",
   "metadata": {},
   "outputs": [
    {
     "ename": "TypeError",
     "evalue": "unsupported operand type(s) for /: 'list' and 'int'",
     "output_type": "error",
     "traceback": [
      "\u001b[31m---------------------------------------------------------------------------\u001b[39m",
      "\u001b[31mTypeError\u001b[39m                                 Traceback (most recent call last)",
      "\u001b[36mCell\u001b[39m\u001b[36m \u001b[39m\u001b[32mIn[63]\u001b[39m\u001b[32m, line 1\u001b[39m\n\u001b[32m----> \u001b[39m\u001b[32m1\u001b[39m \u001b[43malist\u001b[49m\u001b[43m/\u001b[49m\u001b[32;43m2\u001b[39;49m\n",
      "\u001b[31mTypeError\u001b[39m: unsupported operand type(s) for /: 'list' and 'int'"
     ]
    }
   ],
   "source": [
    "alist/2"
   ]
  },
  {
   "cell_type": "code",
   "execution_count": null,
   "id": "d967b4fb",
   "metadata": {},
   "outputs": [
    {
     "data": {
      "text/plain": [
       "[2, 5, 74.0, 5, 7]"
      ]
     },
     "execution_count": 64,
     "metadata": {},
     "output_type": "execute_result"
    }
   ],
   "source": [
    "a"
   ]
  },
  {
   "cell_type": "code",
   "execution_count": null,
   "id": "646bd641",
   "metadata": {},
   "outputs": [],
   "source": [
    "c = [a*2 for a in a]"
   ]
  },
  {
   "cell_type": "code",
   "execution_count": null,
   "id": "be2c275b",
   "metadata": {},
   "outputs": [
    {
     "data": {
      "text/plain": [
       "[4, 10, 148.0, 10, 14]"
      ]
     },
     "execution_count": 66,
     "metadata": {},
     "output_type": "execute_result"
    }
   ],
   "source": [
    "c"
   ]
  },
  {
   "cell_type": "code",
   "execution_count": null,
   "id": "620f90c7",
   "metadata": {},
   "outputs": [],
   "source": [
    "language = \"Python\"\n",
    "new_list = [l for l in language]"
   ]
  },
  {
   "cell_type": "code",
   "execution_count": null,
   "id": "5d4dc34c",
   "metadata": {},
   "outputs": [
    {
     "data": {
      "text/plain": [
       "['P', 'y', 't', 'h', 'o', 'n']"
      ]
     },
     "execution_count": 68,
     "metadata": {},
     "output_type": "execute_result"
    }
   ],
   "source": [
    "new_list"
   ]
  },
  {
   "cell_type": "code",
   "execution_count": null,
   "id": "fa2b821e",
   "metadata": {},
   "outputs": [
    {
     "data": {
      "text/plain": [
       "['P', 'y', 't', 'h', 'o', 'n']"
      ]
     },
     "execution_count": 70,
     "metadata": {},
     "output_type": "execute_result"
    }
   ],
   "source": [
    "list(language)"
   ]
  },
  {
   "cell_type": "code",
   "execution_count": null,
   "id": "be27a237",
   "metadata": {},
   "outputs": [],
   "source": [
    "prev = [-5,1,-4,7,-2,6,-89,90]"
   ]
  },
  {
   "cell_type": "code",
   "execution_count": null,
   "id": "6e17a536",
   "metadata": {},
   "outputs": [
    {
     "data": {
      "text/plain": [
       "[-5, -4, -2, -89]"
      ]
     },
     "execution_count": 75,
     "metadata": {},
     "output_type": "execute_result"
    }
   ],
   "source": [
    "list(filter((lambda a: a*2 < 0),prev))\n"
   ]
  },
  {
   "cell_type": "code",
   "execution_count": null,
   "id": "9e5a469c",
   "metadata": {},
   "outputs": [
    {
     "data": {
      "text/plain": [
       "[25, 16, 4, 7921]"
      ]
     },
     "execution_count": 79,
     "metadata": {},
     "output_type": "execute_result"
    }
   ],
   "source": [
    "[number**2 for number in prev if number < 0]"
   ]
  },
  {
   "cell_type": "code",
   "execution_count": null,
   "id": "05835c7a",
   "metadata": {},
   "outputs": [],
   "source": [
    "sentance = \"my name is dilan\"\n",
    "vouvels = ['a', 'e', 'i', 'o', 'u']\n",
    "\n"
   ]
  },
  {
   "cell_type": "code",
   "execution_count": null,
   "id": "cc57e9b6",
   "metadata": {},
   "outputs": [
    {
     "data": {
      "text/plain": [
       "['M', 'Y', ' ', 'N', 'M', ' ', 'S', ' ', 'D', 'L', 'N']"
      ]
     },
     "execution_count": 83,
     "metadata": {},
     "output_type": "execute_result"
    }
   ],
   "source": [
    "[c.upper() for c in sentance if c.lower() not in vouvels]"
   ]
  },
  {
   "cell_type": "code",
   "execution_count": null,
   "id": "716a3fce",
   "metadata": {},
   "outputs": [],
   "source": [
    "def aw(num):\n",
    "    return num*10\n",
    "def bw(num):\n",
    "    return num if num<0 else num*8"
   ]
  },
  {
   "cell_type": "code",
   "execution_count": null,
   "id": "72bfc633",
   "metadata": {},
   "outputs": [
    {
     "data": {
      "text/plain": [
       "[-5, 1, -4, 7, -2, 6, -89, 90]"
      ]
     },
     "execution_count": 89,
     "metadata": {},
     "output_type": "execute_result"
    }
   ],
   "source": [
    "prev"
   ]
  },
  {
   "cell_type": "code",
   "execution_count": null,
   "id": "bc798ebd",
   "metadata": {},
   "outputs": [
    {
     "data": {
      "text/plain": [
       "[-0.5555555555555556,\n",
       " 10,\n",
       " -0.4444444444444444,\n",
       " 70,\n",
       " -0.2222222222222222,\n",
       " 60,\n",
       " -9.88888888888889,\n",
       " 900]"
      ]
     },
     "execution_count": 90,
     "metadata": {},
     "output_type": "execute_result"
    }
   ],
   "source": [
    "[aw(a) if a > 0 else bw(a) for a in prev]"
   ]
  },
  {
   "cell_type": "code",
   "execution_count": null,
   "id": "af73f113",
   "metadata": {},
   "outputs": [],
   "source": [
    "a = [1,3,-56,56,-85,23,78]\n",
    "\n",
    "\n",
    "def na(n):\n",
    "    return n*-2 if n<0 else n**-2\n",
    "def nb(n):\n",
    "    return n**3 if n>0 else n**9\n"
   ]
  },
  {
   "cell_type": "code",
   "execution_count": null,
   "id": "fbb8f072",
   "metadata": {},
   "outputs": [
    {
     "data": {
      "text/plain": [
       "[1, 27, 112, 175616, 170, 12167, 474552]"
      ]
     },
     "execution_count": 97,
     "metadata": {},
     "output_type": "execute_result"
    }
   ],
   "source": [
    "[na(n) if n<0 else nb(n) for n in a]"
   ]
  },
  {
   "cell_type": "code",
   "execution_count": null,
   "id": "9abca0c0",
   "metadata": {},
   "outputs": [],
   "source": [
    "import random"
   ]
  },
  {
   "cell_type": "code",
   "execution_count": null,
   "id": "f6fbedaf",
   "metadata": {},
   "outputs": [],
   "source": [
    "random.shuffle(a)"
   ]
  },
  {
   "cell_type": "code",
   "execution_count": null,
   "id": "99485253",
   "metadata": {},
   "outputs": [
    {
     "data": {
      "text/plain": [
       "[56, -85, 78, 23, 1, 3, -56]"
      ]
     },
     "execution_count": 105,
     "metadata": {},
     "output_type": "execute_result"
    }
   ],
   "source": [
    "a"
   ]
  },
  {
   "cell_type": "code",
   "execution_count": null,
   "id": "f4ac6a73",
   "metadata": {},
   "outputs": [],
   "source": [
    "while True:\n",
    "    num_days = input(\"Hom many day's tempreature: \")\n",
    "    if num_days == \"done\": break\n",
    "    daily_temp = []\n",
    "    \n",
    "    for i in range(int(num_days)):\n",
    "        temp = float(input(f\"Enter day {i} tempreture: \"))\n",
    "        daily_temp.append(temp)\n",
    "        \n",
    "    average = sum(daily_temp)/len(daily_temp)\n",
    "    \n",
    "    days_above_avg = len([t for t in daily_temp if t > average] )\n",
    "    print(f'Average tempreture is: {average} ')\n",
    "    print(f'Days above average tempreture: {days_above_avg}')\n",
    "    \n",
    "    \n",
    "    "
   ]
  },
  {
   "cell_type": "code",
   "execution_count": null,
   "id": "d09f8d3f",
   "metadata": {},
   "outputs": [],
   "source": [
    "import array"
   ]
  },
  {
   "cell_type": "code",
   "execution_count": null,
   "id": "0d3fc18f",
   "metadata": {},
   "outputs": [],
   "source": [
    "a = array.array('i', range(6))"
   ]
  },
  {
   "cell_type": "code",
   "execution_count": null,
   "id": "2a88e3f9",
   "metadata": {},
   "outputs": [
    {
     "data": {
      "text/plain": [
       "[0, 1, 2, 3, 4, 5]"
      ]
     },
     "execution_count": 114,
     "metadata": {},
     "output_type": "execute_result"
    }
   ],
   "source": [
    "sorted(a)\n"
   ]
  },
  {
   "cell_type": "code",
   "execution_count": null,
   "id": "dba05f9e",
   "metadata": {},
   "outputs": [
    {
     "name": "stdout",
     "output_type": "stream",
     "text": [
      "sum of original 16\n",
      "expected sum 21\n"
     ]
    }
   ],
   "source": [
    "def missing_number(arr, n):\n",
    "    sum_of_original = sum(arr)\n",
    "    expected_sum = n*(n+1)//2\n",
    "    print(f\"sum of original {sum_of_original}\")\n",
    "    print(f\"expected sum {expected_sum}\") \n",
    "\n",
    "missing_number([1, 2, 3, 4, 6], 6)"
   ]
  },
  {
   "cell_type": "code",
   "execution_count": null,
   "id": "fcbb289c",
   "metadata": {},
   "outputs": [
    {
     "data": {
      "text/plain": [
       "15"
      ]
     },
     "execution_count": 130,
     "metadata": {},
     "output_type": "execute_result"
    }
   ],
   "source": [
    "sum(range(1,6))"
   ]
  },
  {
   "cell_type": "code",
   "execution_count": null,
   "id": "049317f2",
   "metadata": {},
   "outputs": [
    {
     "data": {
      "text/plain": [
       "21"
      ]
     },
     "execution_count": 133,
     "metadata": {},
     "output_type": "execute_result"
    }
   ],
   "source": [
    "sum(range(1,7))"
   ]
  },
  {
   "cell_type": "code",
   "execution_count": null,
   "id": "84352d3a",
   "metadata": {},
   "outputs": [
    {
     "name": "stdout",
     "output_type": "stream",
     "text": [
      "0 1\n",
      "2 4\n"
     ]
    }
   ],
   "source": [
    "def two_sum(array, target):\n",
    "    copy = array[:]\n",
    "    for i in range(len(array)):\n",
    "        for j in range(0+i,len(copy)):\n",
    "            if (copy[i] + copy[j]) == 9: \n",
    "                print(i,j)\n",
    "        \n",
    "    \n",
    "    \n",
    "    \n",
    "\n",
    "two_sum([2,7,11,15, -2], 9)"
   ]
  },
  {
   "cell_type": "code",
   "execution_count": null,
   "id": "970650cd",
   "metadata": {},
   "outputs": [],
   "source": [
    "ls = [1,2,3,4]"
   ]
  },
  {
   "cell_type": "code",
   "execution_count": null,
   "id": "4db8401d",
   "metadata": {},
   "outputs": [
    {
     "data": {
      "text/plain": [
       "1"
      ]
     },
     "execution_count": 151,
     "metadata": {},
     "output_type": "execute_result"
    }
   ],
   "source": [
    "ls.pop(0)"
   ]
  },
  {
   "cell_type": "code",
   "execution_count": null,
   "id": "8ab4a1d3",
   "metadata": {},
   "outputs": [
    {
     "data": {
      "text/plain": [
       "[2, 3, 4]"
      ]
     },
     "execution_count": 152,
     "metadata": {},
     "output_type": "execute_result"
    }
   ],
   "source": [
    "ls"
   ]
  },
  {
   "cell_type": "code",
   "execution_count": null,
   "id": "d91de4c1",
   "metadata": {},
   "outputs": [],
   "source": [
    "a = np.arange(1,15)"
   ]
  },
  {
   "cell_type": "code",
   "execution_count": null,
   "id": "a7653033",
   "metadata": {},
   "outputs": [],
   "source": [
    "a[7] = 555"
   ]
  },
  {
   "cell_type": "code",
   "execution_count": null,
   "id": "d324af9f",
   "metadata": {},
   "outputs": [
    {
     "data": {
      "text/plain": [
       "array([  1,   2,   3,   4,   5,   6,   7, 555,   9,  10,  11,  12,  13,\n",
       "        14])"
      ]
     },
     "execution_count": 159,
     "metadata": {},
     "output_type": "execute_result"
    }
   ],
   "source": [
    "a"
   ]
  },
  {
   "cell_type": "code",
   "execution_count": null,
   "id": "db4347f2",
   "metadata": {},
   "outputs": [
    {
     "data": {
      "text/plain": [
       "True"
      ]
     },
     "execution_count": 161,
     "metadata": {},
     "output_type": "execute_result"
    }
   ],
   "source": [
    "7 in a"
   ]
  },
  {
   "cell_type": "code",
   "execution_count": null,
   "id": "a9f35da8",
   "metadata": {},
   "outputs": [
    {
     "name": "stdout",
     "output_type": "stream",
     "text": [
      "Found\n"
     ]
    }
   ],
   "source": [
    "for i in a:\n",
    "    if i == 7:\n",
    "        print(\"Found\")\n"
   ]
  },
  {
   "cell_type": "code",
   "execution_count": null,
   "id": "c9be2ceb",
   "metadata": {},
   "outputs": [],
   "source": [
    "def max_product(arr):\n",
    "    # TODO\n",
    "    max_product = 0\n",
    "    n1,n2 = 0,0\n",
    "    for i in range(len(arr)):\n",
    "        for j in range(0+i, len(arr)):\n",
    "            if i == j:\n",
    "                continue\n",
    "            product = arr[i]*arr[j]\n",
    "            if product > max_product:\n",
    "                max_product = product\n",
    "                n1,n2 = i,j\n",
    "    print(f\"Output: {max_product} ({arr[n2]}*{arr[n1]})\")"
   ]
  },
  {
   "cell_type": "code",
   "execution_count": null,
   "id": "33f0d6bd",
   "metadata": {},
   "outputs": [
    {
     "name": "stdout",
     "output_type": "stream",
     "text": [
      "Output: 63 (9*7)\n"
     ]
    }
   ],
   "source": [
    "arr = [1, 7, 3, 4, 9, 5] \n",
    "max_product(arr)"
   ]
  },
  {
   "cell_type": "code",
   "execution_count": null,
   "id": "cbae0e76",
   "metadata": {},
   "outputs": [],
   "source": [
    "myList2D= [[1,2,3],[4,5,6],[7,8,9]] "
   ]
  },
  {
   "cell_type": "code",
   "execution_count": null,
   "id": "e937af1e",
   "metadata": {},
   "outputs": [
    {
     "data": {
      "text/plain": [
       "[[1, 2, 3], [4, 5, 6], [7, 8, 9]]"
      ]
     },
     "execution_count": 192,
     "metadata": {},
     "output_type": "execute_result"
    }
   ],
   "source": [
    "myList2D"
   ]
  },
  {
   "cell_type": "code",
   "execution_count": null,
   "id": "2e4d05cc",
   "metadata": {},
   "outputs": [
    {
     "data": {
      "text/plain": [
       "3"
      ]
     },
     "execution_count": 193,
     "metadata": {},
     "output_type": "execute_result"
    }
   ],
   "source": [
    "len(myList2D)"
   ]
  },
  {
   "cell_type": "code",
   "execution_count": null,
   "id": "e5117272",
   "metadata": {},
   "outputs": [],
   "source": [
    "myList = [84,85,86,87,85,90,85,83,23,45,84,1,2,0]\n"
   ]
  },
  {
   "cell_type": "code",
   "execution_count": null,
   "id": "6a322a00",
   "metadata": {},
   "outputs": [
    {
     "data": {
      "text/plain": [
       "[87, 90]"
      ]
     },
     "execution_count": 212,
     "metadata": {},
     "output_type": "execute_result"
    }
   ],
   "source": [
    "sorted(myList)[-2:]"
   ]
  },
  {
   "cell_type": "code",
   "execution_count": null,
   "id": "39834c14",
   "metadata": {},
   "outputs": [],
   "source": [
    "myList.remove(90)"
   ]
  },
  {
   "cell_type": "code",
   "execution_count": null,
   "id": "319367f2",
   "metadata": {},
   "outputs": [
    {
     "data": {
      "text/plain": [
       "[90, 87]"
      ]
     },
     "execution_count": 217,
     "metadata": {},
     "output_type": "execute_result"
    }
   ],
   "source": [
    "sorted(myList,reverse=True)[:2]"
   ]
  },
  {
   "cell_type": "code",
   "execution_count": null,
   "id": "ad5d758f",
   "metadata": {},
   "outputs": [],
   "source": [
    "m =[1, 1, 2, 2, 3, 4, 5]"
   ]
  },
  {
   "cell_type": "code",
   "execution_count": null,
   "id": "2bfeadfe",
   "metadata": {},
   "outputs": [
    {
     "data": {
      "text/plain": [
       "{1, 2, 3, 4, 5}"
      ]
     },
     "execution_count": 229,
     "metadata": {},
     "output_type": "execute_result"
    }
   ],
   "source": [
    "set(m)"
   ]
  },
  {
   "cell_type": "code",
   "execution_count": null,
   "id": "db86d5f0",
   "metadata": {},
   "outputs": [],
   "source": [
    "test = []"
   ]
  },
  {
   "cell_type": "code",
   "execution_count": null,
   "id": "dfa5b5ac",
   "metadata": {},
   "outputs": [
    {
     "data": {
      "text/plain": [
       "False"
      ]
     },
     "execution_count": 221,
     "metadata": {},
     "output_type": "execute_result"
    }
   ],
   "source": [
    "'s' in test"
   ]
  },
  {
   "cell_type": "code",
   "execution_count": null,
   "id": "6273109a",
   "metadata": {},
   "outputs": [],
   "source": [
    "def remove_duplicates(arr):\n",
    "    # TODO\n",
    "    uniq = []\n",
    "    \n",
    "    for i in arr:\n",
    "        print(i)\n",
    "        if i not in uniq:\n",
    "            uniq.append(i)\n",
    "    \n",
    "    return uniq\n"
   ]
  },
  {
   "cell_type": "code",
   "execution_count": null,
   "id": "9d0f39bb",
   "metadata": {},
   "outputs": [
    {
     "name": "stdout",
     "output_type": "stream",
     "text": [
      "1\n",
      "1\n",
      "2\n",
      "2\n",
      "3\n",
      "4\n",
      "5\n"
     ]
    },
    {
     "data": {
      "text/plain": [
       "[1, 2, 3, 4, 5]"
      ]
     },
     "execution_count": 227,
     "metadata": {},
     "output_type": "execute_result"
    }
   ],
   "source": [
    "remove_duplicates([1, 1, 2, 2, 3, 4, 5])"
   ]
  },
  {
   "cell_type": "code",
   "execution_count": null,
   "id": "8cb40973",
   "metadata": {},
   "outputs": [],
   "source": [
    "def pair_sum(myList, sum):\n",
    "    # TODO\n",
    "    list_size =  len(myList)\n",
    "    target = 0\n",
    "    v1,v2 = 0,0\n",
    "    value_pairs = []\n",
    "    \n",
    "    for i in range(list_size):\n",
    "        for j in range(i, list_size):\n",
    "            if myList[i] + myList[j] == sum:\n",
    "                value_pairs.append(f\"{myList[i]}+{myList[j]}\")\n",
    "    return value_pairs"
   ]
  },
  {
   "cell_type": "code",
   "execution_count": null,
   "id": "27973b3a",
   "metadata": {},
   "outputs": [
    {
     "data": {
      "text/plain": [
       "['2+5', '4+3', '3+4', '-2+9']"
      ]
     },
     "execution_count": 231,
     "metadata": {},
     "output_type": "execute_result"
    }
   ],
   "source": [
    "pair_sum([2, 4, 3, 5, 6, -2, 4, 7, 8, 9],7)\n"
   ]
  },
  {
   "cell_type": "code",
   "execution_count": null,
   "id": "31aa2faa",
   "metadata": {},
   "outputs": [],
   "source": [
    "def permuations(list1, list2):\n",
    "    if len(list1) != len(list2):\n",
    "        print(\"test\")\n",
    "        return False\n",
    "    count = 0\n",
    "    for i in list1:\n",
    "        if i in list2:\n",
    "            count += 1\n",
    "    return True if count == len(list1) else False"
   ]
  },
  {
   "cell_type": "code",
   "execution_count": null,
   "id": "779ae640",
   "metadata": {},
   "outputs": [
    {
     "data": {
      "text/plain": [
       "False"
      ]
     },
     "execution_count": 251,
     "metadata": {},
     "output_type": "execute_result"
    }
   ],
   "source": [
    "permuations(['d','l', 'l','a'], ['a', 'i', 'i', 'd'])"
   ]
  },
  {
   "cell_type": "code",
   "execution_count": null,
   "id": "172afc42",
   "metadata": {},
   "outputs": [],
   "source": [
    "a = np.array([ 1, 2])\n",
    "b =np.array([ 1, 2])"
   ]
  },
  {
   "cell_type": "code",
   "execution_count": null,
   "id": "b7ba7c62",
   "metadata": {},
   "outputs": [
    {
     "data": {
      "text/plain": [
       "array([0, 0])"
      ]
     },
     "execution_count": 261,
     "metadata": {},
     "output_type": "execute_result"
    }
   ],
   "source": [
    "a - b"
   ]
  },
  {
   "cell_type": "code",
   "execution_count": null,
   "id": "9465ac48",
   "metadata": {},
   "outputs": [],
   "source": [
    "matrix = [[1,2,3],[4,5,6],[7,8,9]]"
   ]
  },
  {
   "cell_type": "code",
   "execution_count": null,
   "id": "4b603de7",
   "metadata": {},
   "outputs": [],
   "source": [
    "def rotate(matrix):\n",
    "    rotate = matrix.copy()\n",
    "    print(rotate)\n",
    "    depth = len(matrix[0])\n",
    "    width =  len(matrix)\n",
    "    for i in range(width):\n",
    "        for j in range(depth):\n",
    "            rotate[i][3-j]=matrix[i][j]\n",
    "            \n",
    "    print(rotate)\n"
   ]
  },
  {
   "cell_type": "code",
   "execution_count": null,
   "id": "cbaa0cb2",
   "metadata": {},
   "outputs": [
    {
     "name": "stdout",
     "output_type": "stream",
     "text": [
      "[[1, 2, 3], [4, 5, 6], [7, 8, 9]]\n"
     ]
    },
    {
     "ename": "IndexError",
     "evalue": "list assignment index out of range",
     "output_type": "error",
     "traceback": [
      "\u001b[31m---------------------------------------------------------------------------\u001b[39m",
      "\u001b[31mIndexError\u001b[39m                                Traceback (most recent call last)",
      "\u001b[36mCell\u001b[39m\u001b[36m \u001b[39m\u001b[32mIn[335]\u001b[39m\u001b[32m, line 1\u001b[39m\n\u001b[32m----> \u001b[39m\u001b[32m1\u001b[39m \u001b[43mrotate\u001b[49m\u001b[43m(\u001b[49m\u001b[43mmatrix\u001b[49m\u001b[43m)\u001b[49m\n",
      "\u001b[36mCell\u001b[39m\u001b[36m \u001b[39m\u001b[32mIn[334]\u001b[39m\u001b[32m, line 8\u001b[39m, in \u001b[36mrotate\u001b[39m\u001b[34m(matrix)\u001b[39m\n\u001b[32m      6\u001b[39m \u001b[38;5;28;01mfor\u001b[39;00m i \u001b[38;5;129;01min\u001b[39;00m \u001b[38;5;28mrange\u001b[39m(width):\n\u001b[32m      7\u001b[39m     \u001b[38;5;28;01mfor\u001b[39;00m j \u001b[38;5;129;01min\u001b[39;00m \u001b[38;5;28mrange\u001b[39m(depth):\n\u001b[32m----> \u001b[39m\u001b[32m8\u001b[39m         \u001b[43mrotate\u001b[49m\u001b[43m[\u001b[49m\u001b[43mi\u001b[49m\u001b[43m]\u001b[49m\u001b[43m[\u001b[49m\u001b[32;43m3\u001b[39;49m\u001b[43m-\u001b[49m\u001b[43mj\u001b[49m\u001b[43m]\u001b[49m=matrix[i][j]\n\u001b[32m     10\u001b[39m \u001b[38;5;28mprint\u001b[39m(rotate)\n",
      "\u001b[31mIndexError\u001b[39m: list assignment index out of range"
     ]
    }
   ],
   "source": [
    "rotate(matrix)"
   ]
  },
  {
   "cell_type": "code",
   "execution_count": null,
   "id": "0e50c038",
   "metadata": {},
   "outputs": [
    {
     "data": {
      "text/plain": [
       "3"
      ]
     },
     "execution_count": 330,
     "metadata": {},
     "output_type": "execute_result"
    }
   ],
   "source": [
    "len(matrix[0])"
   ]
  },
  {
   "cell_type": "code",
   "execution_count": null,
   "id": "0715fb5f",
   "metadata": {},
   "outputs": [],
   "source": [
    "data = np.array(matrix)"
   ]
  },
  {
   "cell_type": "code",
   "execution_count": null,
   "id": "bf4c2aa0",
   "metadata": {},
   "outputs": [
    {
     "data": {
      "text/plain": [
       "array([[1, 4, 7],\n",
       "       [2, 5, 8],\n",
       "       [3, 6, 9]])"
      ]
     },
     "execution_count": 339,
     "metadata": {},
     "output_type": "execute_result"
    }
   ],
   "source": [
    "data.transpose()"
   ]
  },
  {
   "cell_type": "code",
   "execution_count": null,
   "id": "9704c119",
   "metadata": {},
   "outputs": [],
   "source": []
  }
 ],
 "metadata": {
  "kernelspec": {
   "display_name": ".venv",
   "language": "python",
   "name": "python3"
  },
  "language_info": {
   "codemirror_mode": {
    "name": "ipython",
    "version": 3
   },
   "file_extension": ".py",
   "mimetype": "text/x-python",
   "name": "python",
   "nbconvert_exporter": "python",
   "pygments_lexer": "ipython3",
   "version": "3.12.2"
  }
 },
 "nbformat": 4,
 "nbformat_minor": 5
}
